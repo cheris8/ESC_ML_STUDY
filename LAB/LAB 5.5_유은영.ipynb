{
 "cells": [
  {
   "cell_type": "markdown",
   "metadata": {},
   "source": [
    "## 5.3.1 The Validation Set Approach"
   ]
  },
  {
   "cell_type": "code",
   "execution_count": 1,
   "metadata": {},
   "outputs": [],
   "source": [
    "import numpy as np\n",
    "import pandas as pd\n",
    "\n",
    "pd.set_option('precision', 2) # number precision for pandas\n",
    "pd.set_option('display.max_rows', 12)\n",
    "pd.set_option('display.float_format', '{:20,.2f}'.format) # get rid of scientific notation"
   ]
  },
  {
   "cell_type": "code",
   "execution_count": 2,
   "metadata": {},
   "outputs": [],
   "source": [
    "auto = pd.read_csv('datasets/Auto.csv', na_values=['?'])"
   ]
  },
  {
   "cell_type": "code",
   "execution_count": 3,
   "metadata": {
    "scrolled": true
   },
   "outputs": [
    {
     "data": {
      "text/html": [
       "<div>\n",
       "<style scoped>\n",
       "    .dataframe tbody tr th:only-of-type {\n",
       "        vertical-align: middle;\n",
       "    }\n",
       "\n",
       "    .dataframe tbody tr th {\n",
       "        vertical-align: top;\n",
       "    }\n",
       "\n",
       "    .dataframe thead th {\n",
       "        text-align: right;\n",
       "    }\n",
       "</style>\n",
       "<table border=\"1\" class=\"dataframe\">\n",
       "  <thead>\n",
       "    <tr style=\"text-align: right;\">\n",
       "      <th></th>\n",
       "      <th>mpg</th>\n",
       "      <th>cylinders</th>\n",
       "      <th>displacement</th>\n",
       "      <th>horsepower</th>\n",
       "      <th>weight</th>\n",
       "      <th>acceleration</th>\n",
       "      <th>year</th>\n",
       "      <th>origin</th>\n",
       "      <th>name</th>\n",
       "    </tr>\n",
       "  </thead>\n",
       "  <tbody>\n",
       "    <tr>\n",
       "      <th>0</th>\n",
       "      <td>18.00</td>\n",
       "      <td>8</td>\n",
       "      <td>307.00</td>\n",
       "      <td>130.00</td>\n",
       "      <td>3504</td>\n",
       "      <td>12.00</td>\n",
       "      <td>70</td>\n",
       "      <td>1</td>\n",
       "      <td>chevrolet chevelle malibu</td>\n",
       "    </tr>\n",
       "    <tr>\n",
       "      <th>1</th>\n",
       "      <td>15.00</td>\n",
       "      <td>8</td>\n",
       "      <td>350.00</td>\n",
       "      <td>165.00</td>\n",
       "      <td>3693</td>\n",
       "      <td>11.50</td>\n",
       "      <td>70</td>\n",
       "      <td>1</td>\n",
       "      <td>buick skylark 320</td>\n",
       "    </tr>\n",
       "    <tr>\n",
       "      <th>2</th>\n",
       "      <td>18.00</td>\n",
       "      <td>8</td>\n",
       "      <td>318.00</td>\n",
       "      <td>150.00</td>\n",
       "      <td>3436</td>\n",
       "      <td>11.00</td>\n",
       "      <td>70</td>\n",
       "      <td>1</td>\n",
       "      <td>plymouth satellite</td>\n",
       "    </tr>\n",
       "    <tr>\n",
       "      <th>3</th>\n",
       "      <td>16.00</td>\n",
       "      <td>8</td>\n",
       "      <td>304.00</td>\n",
       "      <td>150.00</td>\n",
       "      <td>3433</td>\n",
       "      <td>12.00</td>\n",
       "      <td>70</td>\n",
       "      <td>1</td>\n",
       "      <td>amc rebel sst</td>\n",
       "    </tr>\n",
       "    <tr>\n",
       "      <th>4</th>\n",
       "      <td>17.00</td>\n",
       "      <td>8</td>\n",
       "      <td>302.00</td>\n",
       "      <td>140.00</td>\n",
       "      <td>3449</td>\n",
       "      <td>10.50</td>\n",
       "      <td>70</td>\n",
       "      <td>1</td>\n",
       "      <td>ford torino</td>\n",
       "    </tr>\n",
       "    <tr>\n",
       "      <th>5</th>\n",
       "      <td>15.00</td>\n",
       "      <td>8</td>\n",
       "      <td>429.00</td>\n",
       "      <td>198.00</td>\n",
       "      <td>4341</td>\n",
       "      <td>10.00</td>\n",
       "      <td>70</td>\n",
       "      <td>1</td>\n",
       "      <td>ford galaxie 500</td>\n",
       "    </tr>\n",
       "    <tr>\n",
       "      <th>...</th>\n",
       "      <td>...</td>\n",
       "      <td>...</td>\n",
       "      <td>...</td>\n",
       "      <td>...</td>\n",
       "      <td>...</td>\n",
       "      <td>...</td>\n",
       "      <td>...</td>\n",
       "      <td>...</td>\n",
       "      <td>...</td>\n",
       "    </tr>\n",
       "    <tr>\n",
       "      <th>391</th>\n",
       "      <td>27.00</td>\n",
       "      <td>4</td>\n",
       "      <td>151.00</td>\n",
       "      <td>90.00</td>\n",
       "      <td>2950</td>\n",
       "      <td>17.30</td>\n",
       "      <td>82</td>\n",
       "      <td>1</td>\n",
       "      <td>chevrolet camaro</td>\n",
       "    </tr>\n",
       "    <tr>\n",
       "      <th>392</th>\n",
       "      <td>27.00</td>\n",
       "      <td>4</td>\n",
       "      <td>140.00</td>\n",
       "      <td>86.00</td>\n",
       "      <td>2790</td>\n",
       "      <td>15.60</td>\n",
       "      <td>82</td>\n",
       "      <td>1</td>\n",
       "      <td>ford mustang gl</td>\n",
       "    </tr>\n",
       "    <tr>\n",
       "      <th>393</th>\n",
       "      <td>44.00</td>\n",
       "      <td>4</td>\n",
       "      <td>97.00</td>\n",
       "      <td>52.00</td>\n",
       "      <td>2130</td>\n",
       "      <td>24.60</td>\n",
       "      <td>82</td>\n",
       "      <td>2</td>\n",
       "      <td>vw pickup</td>\n",
       "    </tr>\n",
       "    <tr>\n",
       "      <th>394</th>\n",
       "      <td>32.00</td>\n",
       "      <td>4</td>\n",
       "      <td>135.00</td>\n",
       "      <td>84.00</td>\n",
       "      <td>2295</td>\n",
       "      <td>11.60</td>\n",
       "      <td>82</td>\n",
       "      <td>1</td>\n",
       "      <td>dodge rampage</td>\n",
       "    </tr>\n",
       "    <tr>\n",
       "      <th>395</th>\n",
       "      <td>28.00</td>\n",
       "      <td>4</td>\n",
       "      <td>120.00</td>\n",
       "      <td>79.00</td>\n",
       "      <td>2625</td>\n",
       "      <td>18.60</td>\n",
       "      <td>82</td>\n",
       "      <td>1</td>\n",
       "      <td>ford ranger</td>\n",
       "    </tr>\n",
       "    <tr>\n",
       "      <th>396</th>\n",
       "      <td>31.00</td>\n",
       "      <td>4</td>\n",
       "      <td>119.00</td>\n",
       "      <td>82.00</td>\n",
       "      <td>2720</td>\n",
       "      <td>19.40</td>\n",
       "      <td>82</td>\n",
       "      <td>1</td>\n",
       "      <td>chevy s-10</td>\n",
       "    </tr>\n",
       "  </tbody>\n",
       "</table>\n",
       "<p>397 rows × 9 columns</p>\n",
       "</div>"
      ],
      "text/plain": [
       "                     mpg  cylinders         displacement           horsepower  \\\n",
       "0                  18.00          8               307.00               130.00   \n",
       "1                  15.00          8               350.00               165.00   \n",
       "2                  18.00          8               318.00               150.00   \n",
       "3                  16.00          8               304.00               150.00   \n",
       "4                  17.00          8               302.00               140.00   \n",
       "5                  15.00          8               429.00               198.00   \n",
       "..                   ...        ...                  ...                  ...   \n",
       "391                27.00          4               151.00                90.00   \n",
       "392                27.00          4               140.00                86.00   \n",
       "393                44.00          4                97.00                52.00   \n",
       "394                32.00          4               135.00                84.00   \n",
       "395                28.00          4               120.00                79.00   \n",
       "396                31.00          4               119.00                82.00   \n",
       "\n",
       "     weight         acceleration  year  origin                       name  \n",
       "0      3504                12.00    70       1  chevrolet chevelle malibu  \n",
       "1      3693                11.50    70       1          buick skylark 320  \n",
       "2      3436                11.00    70       1         plymouth satellite  \n",
       "3      3433                12.00    70       1              amc rebel sst  \n",
       "4      3449                10.50    70       1                ford torino  \n",
       "5      4341                10.00    70       1           ford galaxie 500  \n",
       "..      ...                  ...   ...     ...                        ...  \n",
       "391    2950                17.30    82       1           chevrolet camaro  \n",
       "392    2790                15.60    82       1            ford mustang gl  \n",
       "393    2130                24.60    82       2                  vw pickup  \n",
       "394    2295                11.60    82       1              dodge rampage  \n",
       "395    2625                18.60    82       1                ford ranger  \n",
       "396    2720                19.40    82       1                 chevy s-10  \n",
       "\n",
       "[397 rows x 9 columns]"
      ]
     },
     "execution_count": 3,
     "metadata": {},
     "output_type": "execute_result"
    }
   ],
   "source": [
    "auto"
   ]
  },
  {
   "cell_type": "code",
   "execution_count": 6,
   "metadata": {},
   "outputs": [
    {
     "name": "stdout",
     "output_type": "stream",
     "text": [
      "<class 'pandas.core.frame.DataFrame'>\n",
      "RangeIndex: 397 entries, 0 to 396\n",
      "Data columns (total 9 columns):\n",
      "mpg             397 non-null float64\n",
      "cylinders       397 non-null int64\n",
      "displacement    397 non-null float64\n",
      "horsepower      392 non-null float64\n",
      "weight          397 non-null int64\n",
      "acceleration    397 non-null float64\n",
      "year            397 non-null int64\n",
      "origin          397 non-null int64\n",
      "name            397 non-null object\n",
      "dtypes: float64(4), int64(4), object(1)\n",
      "memory usage: 28.0+ KB\n"
     ]
    }
   ],
   "source": [
    "auto.info()"
   ]
  },
  {
   "cell_type": "code",
   "execution_count": 7,
   "metadata": {},
   "outputs": [],
   "source": [
    "auto.dropna(axis=0, inplace=True)"
   ]
  },
  {
   "cell_type": "code",
   "execution_count": 8,
   "metadata": {},
   "outputs": [],
   "source": [
    "auto.cylinders = auto.cylinders.astype('category')\n",
    "auto.name = auto.name.astype('category')\n",
    "\n",
    "auto.reset_index(inplace=True)\n",
    "\n",
    "auto['horsepower_2'] = np.power(auto.horsepower, 2) #제곱\n",
    "auto['horsepower_3'] = np.power(auto.horsepower, 3)\n",
    "auto['horsepower_4'] = np.power(auto.horsepower, 4)\n",
    "auto['horsepower_5'] = np.power(auto.horsepower, 5)"
   ]
  },
  {
   "cell_type": "code",
   "execution_count": 12,
   "metadata": {},
   "outputs": [],
   "source": [
    "# Polynomial Features using sklearn:\n",
    "from sklearn.preprocessing import PolynomialFeatures\n",
    "pol = PolynomialFeatures(degree=5, interaction_only=False, include_bias=False)\n",
    "polf = pol.fit_transform(auto.loc[:, 'horsepower'].values.reshape(-1, 1))"
   ]
  },
  {
   "cell_type": "code",
   "execution_count": 14,
   "metadata": {},
   "outputs": [],
   "source": [
    "from sklearn.model_selection import train_test_split\n",
    "\n",
    "X, y = auto.loc[:, ['horsepower', 'horsepower_2', 'horsepower_3']], auto.mpg\n",
    "\n",
    "X_train, X_test, y_train, y_test = train_test_split(X, y, test_size=0.5, random_state=42)"
   ]
  },
  {
   "cell_type": "code",
   "execution_count": 15,
   "metadata": {},
   "outputs": [
    {
     "name": "stdout",
     "output_type": "stream",
     "text": [
      "lm1 MSE: 25.5738781896844\n",
      "lm2 MSE: 22.218020050032862\n",
      "lm3 MSE: 22.66767543553449\n"
     ]
    }
   ],
   "source": [
    "from sklearn.linear_model import LinearRegression\n",
    "from sklearn.metrics import mean_squared_error\n",
    "\n",
    "# ols model with intercept\n",
    "lm1 = LinearRegression(fit_intercept=True)\n",
    "lm2 = LinearRegression(fit_intercept=True)\n",
    "lm3 = LinearRegression(fit_intercept=True)\n",
    "\n",
    "lm1_fit = lm1.fit(X_train.loc[:, 'horsepower'].values.reshape(-1, 1), y_train)\n",
    "lm2_fit = lm2.fit(X_train.loc[:, ['horsepower', 'horsepower_2']], y_train)\n",
    "lm3_fit = lm3.fit(X_train.loc[:, ['horsepower', 'horsepower_2', 'horsepower_3']], y_train)\n",
    "\n",
    "lm1_predict = lm1_fit.predict(X_test.loc[:, 'horsepower'].values.reshape(-1, 1))\n",
    "lm2_predict = lm2_fit.predict(X_test.loc[:, ['horsepower', 'horsepower_2']])\n",
    "lm3_predict = lm3_fit.predict(X_test.loc[:, ['horsepower', 'horsepower_2', 'horsepower_3']])\n",
    "\n",
    "print('lm1 MSE:', mean_squared_error(y_test, lm1_predict))\n",
    "print('lm2 MSE:', mean_squared_error(y_test, lm2_predict))\n",
    "print('lm3 MSE:', mean_squared_error(y_test, lm3_predict))"
   ]
  },
  {
   "cell_type": "markdown",
   "metadata": {},
   "source": [
    "These results are consistent with our previous ﬁndings: a model that predicts mpg using a quadratic function of horsepower performs better than a model that involves only a linear function of horsepower, and there is little evidence in favor of a model that uses a cubic function of horsepower."
   ]
  },
  {
   "cell_type": "markdown",
   "metadata": {},
   "source": [
    "## 5.3.2 Leave-One-Out Cross-Validation"
   ]
  },
  {
   "cell_type": "markdown",
   "metadata": {},
   "source": [
    "$$ CV_{\\left( n \\right)} = \\frac{1}{n} \\sum_{i=1}^n MSE_i $$"
   ]
  },
  {
   "cell_type": "code",
   "execution_count": 16,
   "metadata": {},
   "outputs": [
    {
     "data": {
      "text/plain": [
       "392"
      ]
     },
     "execution_count": 16,
     "metadata": {},
     "output_type": "execute_result"
    }
   ],
   "source": [
    "from sklearn.model_selection import LeaveOneOut\n",
    "\n",
    "X, y = auto.loc[:, ['horsepower', 'horsepower_2', 'horsepower_3', 'horsepower_4', 'horsepower_5']], auto.mpg\n",
    "\n",
    "loocv = LeaveOneOut()\n",
    "loocv.get_n_splits(X)"
   ]
  },
  {
   "cell_type": "code",
   "execution_count": 18,
   "metadata": {},
   "outputs": [
    {
     "data": {
      "text/plain": [
       "24.231513517929226"
      ]
     },
     "execution_count": 18,
     "metadata": {},
     "output_type": "execute_result"
    }
   ],
   "source": [
    "loocv_mse = []\n",
    "lm = LinearRegression(fit_intercept=True)\n",
    "\n",
    "for train_index, test_index in loocv.split(X):\n",
    "    X_train, X_test = X.iloc[train_index], X.iloc[test_index]\n",
    "    y_train, y_test = y.iloc[train_index], y.iloc[test_index]\n",
    "    \n",
    "    lm1_fit = lm.fit(X_train.loc[:, 'horsepower'].values.reshape(-1, 1), y_train)\n",
    "    lm1_predict = lm1_fit.predict(X_test.loc[:, 'horsepower'].values.reshape(-1, 1))\n",
    "    \n",
    "    loocv_mse.append(mean_squared_error(y_test, lm1_predict))\n",
    "    \n",
    "np.array(loocv_mse).mean()"
   ]
  },
  {
   "cell_type": "code",
   "execution_count": 19,
   "metadata": {},
   "outputs": [],
   "source": [
    "# using sklearn cross_validation_score\n",
    "from sklearn.model_selection import cross_val_score\n",
    "\n",
    "lm = LinearRegression(fit_intercept=True)\n",
    "\n",
    "cval = cross_val_score(lm, \n",
    "                       auto.loc[:, 'horsepower'].values.reshape(-1, 1), \n",
    "                       auto.mpg, \n",
    "                       cv=len(auto), # k=n인 k-Fold가 바로 LOOCV\n",
    "                       n_jobs=-1, \n",
    "                       scoring='neg_mean_squared_error')"
   ]
  },
  {
   "cell_type": "code",
   "execution_count": 20,
   "metadata": {},
   "outputs": [
    {
     "data": {
      "text/plain": [
       "-24.23151351792923"
      ]
     },
     "execution_count": 20,
     "metadata": {},
     "output_type": "execute_result"
    }
   ],
   "source": [
    "cval.mean() #-cval.mean()"
   ]
  },
  {
   "cell_type": "code",
   "execution_count": 21,
   "metadata": {},
   "outputs": [],
   "source": [
    "# Loop for 5 degree polinomial linear regressions with LOOCV\n",
    "loocv_poly = {}\n",
    "\n",
    "for i in range(1, 6):\n",
    "    \n",
    "    loocv_mse = []\n",
    "    \n",
    "    for train_index, test_index in loocv.split(X):\n",
    "        X_train, X_test = X.iloc[train_index], X.iloc[test_index]\n",
    "        y_train, y_test = y.iloc[train_index], y.iloc[test_index]\n",
    "        \n",
    "        if i == 1:\n",
    "            X_TRAIN = X_train.iloc[:,0:1].values.reshape(-1, 1)\n",
    "            X_TEST = X_test.iloc[:,0:1].values.reshape(-1, 1)\n",
    "        else:\n",
    "            X_TRAIN = X_train.iloc[:,0:i]\n",
    "            X_TEST = X_test.iloc[:,0:i]\n",
    "            \n",
    "        loocv_mse.append(mean_squared_error(y_test, LinearRegression(fit_intercept=True).fit(X_TRAIN, y_train).predict(X_TEST)))\n",
    "        \n",
    "        loocv_poly['lm' + str(i) + '_MSE'] = np.array(loocv_mse).mean()"
   ]
  },
  {
   "cell_type": "code",
   "execution_count": 22,
   "metadata": {},
   "outputs": [
    {
     "data": {
      "text/plain": [
       "{'lm1_MSE': 24.231513517929226,\n",
       " 'lm2_MSE': 19.248213124489677,\n",
       " 'lm3_MSE': 19.334984064029538,\n",
       " 'lm4_MSE': 19.424430310310466,\n",
       " 'lm5_MSE': 19.033212804000605}"
      ]
     },
     "execution_count": 22,
     "metadata": {},
     "output_type": "execute_result"
    }
   ],
   "source": [
    "loocv_poly"
   ]
  },
  {
   "cell_type": "markdown",
   "metadata": {},
   "source": [
    "## 5.3.3 k-Fold Cross-Validation\n",
    "\n",
    "loocv는 k-fold의 특이 케이스(k=n)"
   ]
  },
  {
   "cell_type": "code",
   "execution_count": 23,
   "metadata": {},
   "outputs": [],
   "source": [
    "from sklearn.model_selection import KFold\n",
    "\n",
    "X, y = auto.loc[:, ['horsepower', 'horsepower_2', 'horsepower_3', 'horsepower_4', 'horsepower_5']], auto.mpg\n",
    "\n",
    "kf = KFold(n_splits=10, shuffle=True, random_state=42)"
   ]
  },
  {
   "cell_type": "code",
   "execution_count": 24,
   "metadata": {},
   "outputs": [],
   "source": [
    "# Loop for 5 degree polinomial linear regressions with k-Fold CV\n",
    "\n",
    "kf_poly = {}\n",
    "\n",
    "for i in range(1, 6):\n",
    "    \n",
    "    kf_mse = []\n",
    "    \n",
    "    for train_index, test_index in kf.split(X):\n",
    "        X_train, X_test = X.iloc[train_index], X.iloc[test_index]\n",
    "        y_train, y_test = y.iloc[train_index], y.iloc[test_index]\n",
    "        \n",
    "        if i == 1:\n",
    "            X_TRAIN = X_train.iloc[:,0:1].values.reshape(-1, 1)\n",
    "            X_TEST = X_test.iloc[:,0:1].values.reshape(-1, 1)\n",
    "        else:\n",
    "            X_TRAIN = X_train.iloc[:,0:i]\n",
    "            X_TEST = X_test.iloc[:,0:i]\n",
    "        \n",
    "        kf_mse.append(\n",
    "            mean_squared_error(\n",
    "                y_test, \n",
    "                LinearRegression(fit_intercept=True)\n",
    "                .fit(\n",
    "                    X_TRAIN, \n",
    "                    y_train\n",
    "                )\n",
    "                .predict(\n",
    "                    X_TEST\n",
    "                )))\n",
    "        \n",
    "        kf_poly['lm' + str(i) + '_MSE'] = np.array(kf_mse).mean()"
   ]
  },
  {
   "cell_type": "code",
   "execution_count": 25,
   "metadata": {},
   "outputs": [
    {
     "data": {
      "text/plain": [
       "{'lm1_MSE': 24.199808197692477,\n",
       " 'lm2_MSE': 19.22863661426802,\n",
       " 'lm3_MSE': 19.26626534663196,\n",
       " 'lm4_MSE': 19.35109227305059,\n",
       " 'lm5_MSE': 19.02323300932039}"
      ]
     },
     "execution_count": 25,
     "metadata": {},
     "output_type": "execute_result"
    }
   ],
   "source": [
    "kf_poly"
   ]
  },
  {
   "cell_type": "markdown",
   "metadata": {},
   "source": [
    "## 5.3.4 The Bootstrap"
   ]
  },
  {
   "cell_type": "code",
   "execution_count": 26,
   "metadata": {},
   "outputs": [],
   "source": [
    "portfolio = pd.read_csv('datasets/Portfolio.csv', index_col=0)"
   ]
  },
  {
   "cell_type": "code",
   "execution_count": 27,
   "metadata": {},
   "outputs": [
    {
     "data": {
      "text/html": [
       "<div>\n",
       "<style scoped>\n",
       "    .dataframe tbody tr th:only-of-type {\n",
       "        vertical-align: middle;\n",
       "    }\n",
       "\n",
       "    .dataframe tbody tr th {\n",
       "        vertical-align: top;\n",
       "    }\n",
       "\n",
       "    .dataframe thead th {\n",
       "        text-align: right;\n",
       "    }\n",
       "</style>\n",
       "<table border=\"1\" class=\"dataframe\">\n",
       "  <thead>\n",
       "    <tr style=\"text-align: right;\">\n",
       "      <th></th>\n",
       "      <th>X</th>\n",
       "      <th>Y</th>\n",
       "    </tr>\n",
       "  </thead>\n",
       "  <tbody>\n",
       "    <tr>\n",
       "      <th>1</th>\n",
       "      <td>-0.90</td>\n",
       "      <td>-0.23</td>\n",
       "    </tr>\n",
       "    <tr>\n",
       "      <th>2</th>\n",
       "      <td>-1.56</td>\n",
       "      <td>-0.89</td>\n",
       "    </tr>\n",
       "    <tr>\n",
       "      <th>3</th>\n",
       "      <td>-0.42</td>\n",
       "      <td>0.27</td>\n",
       "    </tr>\n",
       "    <tr>\n",
       "      <th>4</th>\n",
       "      <td>1.04</td>\n",
       "      <td>-0.73</td>\n",
       "    </tr>\n",
       "    <tr>\n",
       "      <th>5</th>\n",
       "      <td>-0.32</td>\n",
       "      <td>0.84</td>\n",
       "    </tr>\n",
       "    <tr>\n",
       "      <th>6</th>\n",
       "      <td>-1.74</td>\n",
       "      <td>-2.04</td>\n",
       "    </tr>\n",
       "    <tr>\n",
       "      <th>...</th>\n",
       "      <td>...</td>\n",
       "      <td>...</td>\n",
       "    </tr>\n",
       "    <tr>\n",
       "      <th>95</th>\n",
       "      <td>2.26</td>\n",
       "      <td>0.67</td>\n",
       "    </tr>\n",
       "    <tr>\n",
       "      <th>96</th>\n",
       "      <td>0.48</td>\n",
       "      <td>1.45</td>\n",
       "    </tr>\n",
       "    <tr>\n",
       "      <th>97</th>\n",
       "      <td>-0.54</td>\n",
       "      <td>-0.40</td>\n",
       "    </tr>\n",
       "    <tr>\n",
       "      <th>98</th>\n",
       "      <td>-0.77</td>\n",
       "      <td>-0.96</td>\n",
       "    </tr>\n",
       "    <tr>\n",
       "      <th>99</th>\n",
       "      <td>0.40</td>\n",
       "      <td>1.40</td>\n",
       "    </tr>\n",
       "    <tr>\n",
       "      <th>100</th>\n",
       "      <td>-0.59</td>\n",
       "      <td>-0.50</td>\n",
       "    </tr>\n",
       "  </tbody>\n",
       "</table>\n",
       "<p>100 rows × 2 columns</p>\n",
       "</div>"
      ],
      "text/plain": [
       "                       X                    Y\n",
       "1                  -0.90                -0.23\n",
       "2                  -1.56                -0.89\n",
       "3                  -0.42                 0.27\n",
       "4                   1.04                -0.73\n",
       "5                  -0.32                 0.84\n",
       "6                  -1.74                -2.04\n",
       "..                   ...                  ...\n",
       "95                  2.26                 0.67\n",
       "96                  0.48                 1.45\n",
       "97                 -0.54                -0.40\n",
       "98                 -0.77                -0.96\n",
       "99                  0.40                 1.40\n",
       "100                -0.59                -0.50\n",
       "\n",
       "[100 rows x 2 columns]"
      ]
     },
     "execution_count": 27,
     "metadata": {},
     "output_type": "execute_result"
    }
   ],
   "source": [
    "portfolio"
   ]
  },
  {
   "cell_type": "code",
   "execution_count": 28,
   "metadata": {},
   "outputs": [],
   "source": [
    "def alpha_fn(data, start_index, end_index):\n",
    "    X = data['X'][start_index:end_index]\n",
    "    Y = data['Y'][start_index:end_index]\n",
    "    return ((np.var(Y) - np.cov(X, Y)[0][1]) / (np.var(X) + np.var(Y) - 2 * np.cov(X, Y)[0][1]))"
   ]
  },
  {
   "cell_type": "markdown",
   "metadata": {},
   "source": [
    "$$ \\alpha = \\frac{\\sigma_Y^2 - \\sigma_{XY}}{\\sigma_X^2 + \\sigma_Y^2 - 2 \\sigma_{XY}} $$"
   ]
  },
  {
   "cell_type": "code",
   "execution_count": 29,
   "metadata": {},
   "outputs": [
    {
     "data": {
      "text/plain": [
       "0.5766511516104118"
      ]
     },
     "execution_count": 29,
     "metadata": {},
     "output_type": "execute_result"
    }
   ],
   "source": [
    "alpha_fn(portfolio, 0, 100) # use all 100 obs일때"
   ]
  },
  {
   "cell_type": "code",
   "execution_count": 30,
   "metadata": {},
   "outputs": [
    {
     "data": {
      "text/plain": [
       "0.48955576946792495"
      ]
     },
     "execution_count": 30,
     "metadata": {},
     "output_type": "execute_result"
    }
   ],
   "source": [
    "# use sample function for bootstrap sampling \n",
    "#중복 허용 랜덤\n",
    "from sklearn.utils import resample\n",
    "\n",
    "portfolio_bs = resample(portfolio, replace=True, n_samples=100)\n",
    "alpha_fn(portfolio_bs, 0, 100)"
   ]
  },
  {
   "cell_type": "code",
   "execution_count": 31,
   "metadata": {},
   "outputs": [
    {
     "name": "stdout",
     "output_type": "stream",
     "text": [
      "Bootstrapped alpha: 0.5808457000125028\n",
      "SE: 0.09267636973659929\n"
     ]
    }
   ],
   "source": [
    "bs_alpha = []\n",
    "\n",
    "for i in range(0, 1000):\n",
    "    bs_alpha.append(alpha_fn(resample(portfolio, replace=True, n_samples=100), 0, 100))\n",
    "\n",
    "bs_alpha = np.array(bs_alpha)\n",
    "\n",
    "print('Bootstrapped alpha:', bs_alpha.mean())\n",
    "print('SE:',  bs_alpha.std())"
   ]
  },
  {
   "cell_type": "code",
   "execution_count": 32,
   "metadata": {},
   "outputs": [
    {
     "data": {
      "text/plain": [
       "(39.93586102117047, array([-0.15784473]))"
      ]
     },
     "execution_count": 32,
     "metadata": {},
     "output_type": "execute_result"
    }
   ],
   "source": [
    "# estimates of parameters usual linear regression\n",
    "def boot_fn(data, start_index, end_index):\n",
    "    m = LinearRegression(fit_intercept=True).fit(\n",
    "        data['horsepower'][start_index:end_index].values.reshape(-1, 1),\n",
    "        data['mpg'][start_index:end_index])\n",
    "    \n",
    "    return m.intercept_, m.coef_\n",
    "    \n",
    "boot_fn(auto, 0, 392)"
   ]
  },
  {
   "cell_type": "code",
   "execution_count": 33,
   "metadata": {},
   "outputs": [
    {
     "data": {
      "text/plain": [
       "(40.58035039762748, array([-0.16312637]))"
      ]
     },
     "execution_count": 33,
     "metadata": {},
     "output_type": "execute_result"
    }
   ],
   "source": [
    "boot_fn(resample(auto, replace=True, n_samples=392), 0, 392)"
   ]
  },
  {
   "cell_type": "code",
   "execution_count": 35,
   "metadata": {},
   "outputs": [
    {
     "data": {
      "text/plain": [
       "(39.83062220275909, array([-0.15733682]))"
      ]
     },
     "execution_count": 35,
     "metadata": {},
     "output_type": "execute_result"
    }
   ],
   "source": [
    "# create bootstrap estimates \n",
    "boot_fn(resample(auto, replace=True, n_samples=392), 0, 392)"
   ]
  },
  {
   "cell_type": "code",
   "execution_count": 36,
   "metadata": {},
   "outputs": [
    {
     "name": "stdout",
     "output_type": "stream",
     "text": [
      "t1 bs estimate & se: 39.976437608451405 0.8604305306018767\n",
      "t2 bs estimate & se: -0.15787683364545693 0.0076319574950846365\n"
     ]
    }
   ],
   "source": [
    "# compute SE of 1000 bootstrap estimates\n",
    "bs_boot = {'t1': [], 't2': []}\n",
    "\n",
    "for i in range(0, 1000):\n",
    "    bs_boot['t1'].append(boot_fn(resample(auto, replace=True, n_samples=392), 0, 392)[0])\n",
    "    bs_boot['t2'].append(boot_fn(resample(auto, replace=True, n_samples=392), 0, 392)[1][0])\n",
    "\n",
    "t1_es = np.array(bs_boot['t1']).mean()\n",
    "t1_se = np.array(bs_boot['t1']).std()\n",
    "t2_es = np.array(bs_boot['t2']).mean()\n",
    "t2_se = np.array(bs_boot['t2']).std()\n",
    "\n",
    "print('t1 bs estimate & se:', t1_es, t1_se)\n",
    "print('t2 bs estimate & se:', t2_es, t2_se)"
   ]
  },
  {
   "cell_type": "code",
   "execution_count": 37,
   "metadata": {},
   "outputs": [
    {
     "data": {
      "text/html": [
       "<table class=\"simpletable\">\n",
       "<tr>\n",
       "       <td></td>         <th>coef</th>     <th>std err</th>      <th>t</th>      <th>P>|t|</th>  <th>[0.025</th>    <th>0.975]</th>  \n",
       "</tr>\n",
       "<tr>\n",
       "  <th>Intercept</th>  <td>   39.9359</td> <td>    0.717</td> <td>   55.660</td> <td> 0.000</td> <td>   38.525</td> <td>   41.347</td>\n",
       "</tr>\n",
       "<tr>\n",
       "  <th>horsepower</th> <td>   -0.1578</td> <td>    0.006</td> <td>  -24.489</td> <td> 0.000</td> <td>   -0.171</td> <td>   -0.145</td>\n",
       "</tr>\n",
       "</table>"
      ],
      "text/plain": [
       "<class 'statsmodels.iolib.table.SimpleTable'>"
      ]
     },
     "execution_count": 37,
     "metadata": {},
     "output_type": "execute_result"
    }
   ],
   "source": [
    "import statsmodels.formula.api as sm\n",
    "\n",
    "ols = sm.ols('mpg ~ horsepower', data=auto).fit()\n",
    "ols.summary().tables[1]"
   ]
  },
  {
   "cell_type": "code",
   "execution_count": 38,
   "metadata": {},
   "outputs": [],
   "source": [
    "def boot_fn2(data, start_index, end_index):\n",
    "    m = LinearRegression(fit_intercept=True).fit(\n",
    "        data[['horsepower', 'horsepower_2']][start_index:end_index], #horsepower2 추가\n",
    "        data['mpg'][start_index:end_index])\n",
    "    \n",
    "    return m.intercept_, m.coef_"
   ]
  },
  {
   "cell_type": "code",
   "execution_count": 39,
   "metadata": {},
   "outputs": [
    {
     "name": "stdout",
     "output_type": "stream",
     "text": [
      "t1 bs estimate & se: 56.91865138430965 2.1543994998746396\n",
      "t2 bs estimate & se: -0.4669285837759115 0.03418949505171125\n",
      "t3 bs estimate & se: 0.0012299970171830358 0.0001196071570809738\n"
     ]
    }
   ],
   "source": [
    "bs_boot2 = {'t1': [], 't2': [], 't3': []}\n",
    "\n",
    "for i in range(0, 1000):\n",
    "    bs_boot2['t1'].append(\n",
    "        boot_fn2(resample(auto, replace=True, n_samples=392), 0, 392)[0]\n",
    "    )\n",
    "    bs_boot2['t2'].append(\n",
    "        boot_fn2(resample(auto, replace=True, n_samples=392), 0, 392)[1][0]\n",
    "    )\n",
    "    bs_boot2['t3'].append(\n",
    "        boot_fn2(resample(auto, replace=True, n_samples=392), 0, 392)[1][1]\n",
    "    )\n",
    "\n",
    "\n",
    "t1_es = np.array(bs_boot2['t1']).mean()\n",
    "t1_se = np.array(bs_boot2['t1']).std()\n",
    "t2_es = np.array(bs_boot2['t2']).mean()\n",
    "t2_se = np.array(bs_boot2['t2']).std()\n",
    "t3_es = np.array(bs_boot2['t3']).mean()\n",
    "t3_se = np.array(bs_boot2['t3']).std()\n",
    "\n",
    "print('t1 bs estimate & se:', t1_es, t1_se)\n",
    "print('t2 bs estimate & se:', t2_es, t2_se)\n",
    "print('t3 bs estimate & se:', t3_es, t3_se)"
   ]
  },
  {
   "cell_type": "code",
   "execution_count": 40,
   "metadata": {},
   "outputs": [
    {
     "data": {
      "text/html": [
       "<table class=\"simpletable\">\n",
       "<tr>\n",
       "        <td></td>          <th>coef</th>     <th>std err</th>      <th>t</th>      <th>P>|t|</th>  <th>[0.025</th>    <th>0.975]</th>  \n",
       "</tr>\n",
       "<tr>\n",
       "  <th>Intercept</th>    <td>   56.9001</td> <td>    1.800</td> <td>   31.604</td> <td> 0.000</td> <td>   53.360</td> <td>   60.440</td>\n",
       "</tr>\n",
       "<tr>\n",
       "  <th>horsepower</th>   <td>   -0.4662</td> <td>    0.031</td> <td>  -14.978</td> <td> 0.000</td> <td>   -0.527</td> <td>   -0.405</td>\n",
       "</tr>\n",
       "<tr>\n",
       "  <th>horsepower_2</th> <td>    0.0012</td> <td>    0.000</td> <td>   10.080</td> <td> 0.000</td> <td>    0.001</td> <td>    0.001</td>\n",
       "</tr>\n",
       "</table>"
      ],
      "text/plain": [
       "<class 'statsmodels.iolib.table.SimpleTable'>"
      ]
     },
     "execution_count": 40,
     "metadata": {},
     "output_type": "execute_result"
    }
   ],
   "source": [
    "import statsmodels.formula.api as sm\n",
    "\n",
    "ols2 = sm.ols('mpg ~ horsepower + horsepower_2', data=auto).fit()\n",
    "ols2.summary().tables[1]"
   ]
  },
  {
   "cell_type": "code",
   "execution_count": null,
   "metadata": {},
   "outputs": [],
   "source": []
  }
 ],
 "metadata": {
  "kernelspec": {
   "display_name": "Python 3",
   "language": "python",
   "name": "python3"
  },
  "language_info": {
   "codemirror_mode": {
    "name": "ipython",
    "version": 3
   },
   "file_extension": ".py",
   "mimetype": "text/x-python",
   "name": "python",
   "nbconvert_exporter": "python",
   "pygments_lexer": "ipython3",
   "version": "3.7.3"
  }
 },
 "nbformat": 4,
 "nbformat_minor": 2
}
