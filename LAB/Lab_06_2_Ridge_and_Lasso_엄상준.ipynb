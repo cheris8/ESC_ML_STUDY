{
 "cells": [
  {
   "cell_type": "markdown",
   "metadata": {},
   "source": [
    "# 1. Ridge Regression"
   ]
  },
  {
   "cell_type": "code",
   "execution_count": 1,
   "metadata": {},
   "outputs": [],
   "source": [
    "%matplotlib inline\n",
    "\n",
    "import numpy as np\n",
    "import pandas as pd\n",
    "\n",
    "import seaborn as sns\n",
    "import matplotlib.pyplot as plt\n",
    "\n",
    "pd.set_option('precision', 4)\n",
    "pd.set_option('display.max_rows', 20)\n",
    "pd.set_option('display.max_columns', 12)\n",
    "pd.set_option('display.float_format','{:20.2f}'.format)\n",
    "\n",
    "plt.style.use('seaborn')"
   ]
  },
  {
   "cell_type": "code",
   "execution_count": 2,
   "metadata": {},
   "outputs": [],
   "source": [
    "hitters = pd.read_csv('../datasets/Hitters.csv', index_col=0).dropna()\n",
    "hitters.index.name = 'Player'\n",
    "\n",
    "cols_arange = [col for col in hitters if col !=hitters.columns[-2]] + [hitters.columns[-2]]\n",
    "hitters = hitters[cols_arange]"
   ]
  },
  {
   "cell_type": "code",
   "execution_count": 3,
   "metadata": {},
   "outputs": [],
   "source": [
    "# load data\n",
    "hitters = pd.read_csv('../datasets/Hitters.csv', index_col=0).dropna()\n",
    "hitters.index.name = 'Player'\n",
    "\n",
    "cols_arange = [col for col in hitters if col !=hitters.columns[-2]] + [hitters.columns[-2]]\n",
    "hitters = hitters[cols_arange]\n",
    "\n",
    "hitters['League']= pd.get_dummies(hitters['League']).iloc[:,1]\n",
    "hitters['Division']=pd.get_dummies(hitters['Division']).iloc[:,1]\n",
    "hitters['NewLeague']=pd.get_dummies(hitters['NewLeague']).iloc[:,1]\n",
    "\n",
    "X = hitters.iloc[:, 0:19]\n",
    "y = hitters.iloc[:, 19]"
   ]
  },
  {
   "cell_type": "code",
   "execution_count": 4,
   "metadata": {},
   "outputs": [],
   "source": [
    "from sklearn.linear_model import Ridge, RidgeCV, Lasso, LassoCV\n",
    "from sklearn.preprocessing import scale\n",
    "\n",
    "grid = 10 ** np.linspace(3,-2,100)\n",
    "\n",
    "ridge_model = Ridge(normalize=True) #X변수가 regression 하기 전에 normalize 된다.\n",
    "coefs = []\n",
    "\n",
    "for a in grid:\n",
    "    ridge_model.set_params(alpha=a) # 여기서 alpha가 람다를 의미.\n",
    "    ridge_model.fit(X,y)\n",
    "    coefs.append(ridge_model.coef_)"
   ]
  },
  {
   "cell_type": "code",
   "execution_count": 5,
   "metadata": {},
   "outputs": [
    {
     "data": {
      "text/plain": [
       "3.351602650938841"
      ]
     },
     "execution_count": 5,
     "metadata": {},
     "output_type": "execute_result"
    }
   ],
   "source": [
    "grid[49]"
   ]
  },
  {
   "cell_type": "code",
   "execution_count": 6,
   "metadata": {},
   "outputs": [
    {
     "data": {
      "text/plain": [
       "array([ 1.07678823e-01,  4.88686573e-01,  1.31795929e+00,  7.57860364e-01,\n",
       "        7.30997082e-01,  1.00938460e+00,  2.78920666e+00,  9.30050774e-03,\n",
       "        3.70396450e-02,  2.72350721e-01,  7.42215419e-02,  7.69501588e-02,\n",
       "        6.91701737e-02,  6.81266963e+00, -3.36279212e+01,  7.70501917e-02,\n",
       "        1.02554877e-02, -3.02798612e-01,  5.36069490e+00])"
      ]
     },
     "execution_count": 6,
     "metadata": {},
     "output_type": "execute_result"
    }
   ],
   "source": [
    "coefs[49]"
   ]
  },
  {
   "cell_type": "code",
   "execution_count": 7,
   "metadata": {},
   "outputs": [
    {
     "data": {
      "text/plain": [
       "AtBat                       0.11\n",
       "Hits                        0.49\n",
       "HmRun                       1.32\n",
       "Runs                        0.76\n",
       "RBI                         0.73\n",
       "Walks                       1.01\n",
       "Years                       2.79\n",
       "CAtBat                      0.01\n",
       "CHits                       0.04\n",
       "CHmRun                      0.27\n",
       "CRuns                       0.07\n",
       "CRBI                        0.08\n",
       "CWalks                      0.07\n",
       "League                      6.81\n",
       "Division                  -33.63\n",
       "PutOuts                     0.08\n",
       "Assists                     0.01\n",
       "Errors                     -0.30\n",
       "NewLeague                   5.36\n",
       "dtype: float64"
      ]
     },
     "execution_count": 7,
     "metadata": {},
     "output_type": "execute_result"
    }
   ],
   "source": [
    "pd.Series(coefs[49], index = X.columns)"
   ]
  },
  {
   "cell_type": "code",
   "execution_count": 8,
   "metadata": {
    "scrolled": true
   },
   "outputs": [
    {
     "data": {
      "image/png": "[encoded data removed]",
      "text/plain": [
       "<Figure size 432x288 with 1 Axes>"
      ]
     },
     "metadata": {
      "needs_background": "light"
     },
     "output_type": "display_data"
    }
   ],
   "source": [
    "ax = plt.gca()\n",
    "ax.plot(grid, coefs)\n",
    "ax.set_xscale('log')\n",
    "\n",
    "plt.axis('tight')\n",
    "plt.xlabel('alpha')\n",
    "plt.ylabel('weights');"
   ]
  },
  {
   "cell_type": "code",
   "execution_count": 10,
   "metadata": {},
   "outputs": [],
   "source": [
    "#Validation set approach\n",
    "\n",
    "from sklearn.model_selection import train_test_split\n",
    "from sklearn.metrics import mean_squared_error as MSE\n",
    "\n",
    "X_train, X_test, y_train, y_test = train_test_split(X, y, test_size=0.5, random_state=1)"
   ]
  },
  {
   "cell_type": "code",
   "execution_count": 13,
   "metadata": {},
   "outputs": [
    {
     "name": "stdout",
     "output_type": "stream",
     "text": [
      "AtBat                       0.10\n",
      "Hits                        0.45\n",
      "HmRun                       1.41\n",
      "Runs                        0.66\n",
      "RBI                         0.84\n",
      "Walks                       1.01\n",
      "Years                       2.78\n",
      "CAtBat                      0.01\n",
      "CHits                       0.03\n",
      "CHmRun                      0.27\n",
      "CRuns                       0.07\n",
      "CRBI                        0.07\n",
      "CWalks                      0.08\n",
      "League                      4.24\n",
      "Division                  -30.77\n",
      "PutOuts                     0.10\n",
      "Assists                    -0.00\n",
      "Errors                      0.27\n",
      "NewLeague                   4.12\n",
      "dtype: float64\n",
      "MSE: 106216.52238005561\n"
     ]
    }
   ],
   "source": [
    "# lamda가 적절하게 4정도인 경우\n",
    "\n",
    "ridge2 = Ridge(alpha=4, normalize=True)\n",
    "ridge2_fit = ridge2.fit(X_train, y_train)\n",
    "y_pred2 = ridge2_fit.predict(X_test)\n",
    "\n",
    "print(pd.Series(ridge2_fit.coef_, index=X.columns))\n",
    "print(\"MSE:\", MSE(y_test, y_pred2))"
   ]
  },
  {
   "cell_type": "code",
   "execution_count": 14,
   "metadata": {},
   "outputs": [
    {
     "name": "stdout",
     "output_type": "stream",
     "text": [
      "AtBat                       0.00\n",
      "Hits                        0.00\n",
      "HmRun                       0.00\n",
      "Runs                        0.00\n",
      "RBI                         0.00\n",
      "Walks                       0.00\n",
      "Years                       0.00\n",
      "CAtBat                      0.00\n",
      "CHits                       0.00\n",
      "CHmRun                      0.00\n",
      "CRuns                       0.00\n",
      "CRBI                        0.00\n",
      "CWalks                      0.00\n",
      "League                     -0.00\n",
      "Division                   -0.00\n",
      "PutOuts                     0.00\n",
      "Assists                    -0.00\n",
      "Errors                      0.00\n",
      "NewLeague                  -0.00\n",
      "dtype: float64\n",
      "MSE: 172862.23580379886\n"
     ]
    }
   ],
   "source": [
    "# lamda가 매우 높은 경우\n",
    "ridge3 = Ridge(alpha=1e10, normalize=True)\n",
    "ridge3_fit = ridge3.fit(X_train, y_train)\n",
    "y_pred3 = ridge3_fit.predict(X_test)\n",
    "\n",
    "print(pd.Series(ridge3_fit.coef_, index=X.columns))\n",
    "print(\"MSE:\", MSE(y_test, y_pred3))\n",
    "\n",
    "#전부다 0에 수렴하는 것을 알 수 있다."
   ]
  },
  {
   "cell_type": "code",
   "execution_count": 15,
   "metadata": {},
   "outputs": [
    {
     "name": "stdout",
     "output_type": "stream",
     "text": [
      "AtBat                      -1.82\n",
      "Hits                        4.26\n",
      "HmRun                      -4.77\n",
      "Runs                       -0.04\n",
      "RBI                         3.98\n",
      "Walks                       3.47\n",
      "Years                       9.50\n",
      "CAtBat                     -0.61\n",
      "CHits                       2.17\n",
      "CHmRun                      2.98\n",
      "CRuns                       0.27\n",
      "CRBI                       -0.60\n",
      "CWalks                      0.17\n",
      "League                    133.74\n",
      "Division                 -113.74\n",
      "PutOuts                     0.42\n",
      "Assists                     0.46\n",
      "Errors                     -6.02\n",
      "NewLeague                 -81.93\n",
      "dtype: float64\n",
      "MSE: 116690.46856660453\n"
     ]
    }
   ],
   "source": [
    "# lamda가 0인 경우\n",
    "\n",
    "ridge4 = Ridge(alpha=0, normalize=True)\n",
    "ridge4_fit = ridge4.fit(X_train, y_train)\n",
    "y_pred4 = ridge4_fit.predict(X_test)\n",
    "\n",
    "print(pd.Series(ridge4_fit.coef_, index=X.columns))\n",
    "print(\"MSE:\", MSE(y_test, y_pred4))"
   ]
  },
  {
   "cell_type": "code",
   "execution_count": 16,
   "metadata": {},
   "outputs": [
    {
     "name": "stdout",
     "output_type": "stream",
     "text": [
      "AtBat                      -1.82\n",
      "Hits                        4.26\n",
      "HmRun                      -4.77\n",
      "Runs                       -0.04\n",
      "RBI                         3.98\n",
      "Walks                       3.47\n",
      "Years                       9.50\n",
      "CAtBat                     -0.61\n",
      "CHits                       2.17\n",
      "CHmRun                      2.98\n",
      "CRuns                       0.27\n",
      "CRBI                       -0.60\n",
      "CWalks                      0.17\n",
      "League                    133.74\n",
      "Division                 -113.74\n",
      "PutOuts                     0.42\n",
      "Assists                     0.46\n",
      "Errors                     -6.02\n",
      "NewLeague                 -81.93\n",
      "dtype: float64\n",
      "MSE: 116690.46856661087\n"
     ]
    }
   ],
   "source": [
    "# OLS인 경우\n",
    "\n",
    "from sklearn.linear_model import LinearRegression as LR\n",
    "\n",
    "OLS = LR(normalize=True)\n",
    "OLS_fit = OLS.fit(X_train, y_train)\n",
    "y_pred5 = OLS_fit.predict(X_test)\n",
    "\n",
    "print(pd.Series(OLS_fit.coef_, index=X.columns))\n",
    "print(\"MSE:\", MSE(y_test, y_pred5))\n",
    "\n",
    "# lamda 0일 때와 똑같다는 것을 알 수 있다."
   ]
  },
  {
   "cell_type": "code",
   "execution_count": 20,
   "metadata": {},
   "outputs": [
    {
     "data": {
      "text/plain": [
       "0.5857020818056667"
      ]
     },
     "execution_count": 20,
     "metadata": {},
     "output_type": "execute_result"
    }
   ],
   "source": [
    "##### cross validation ridge (10-fold)\n",
    "ridge_cv = RidgeCV(alphas=grid, normalize=True, scoring = 'neg_mean_squared_error')\n",
    "ridge_cv.fit(X_train, y_train)\n",
    "ridge_cv.alpha_\n",
    "\n",
    "# 10-fold cv 했을 때 최적의 람다 값이 0.5857이다."
   ]
  },
  {
   "cell_type": "code",
   "execution_count": 22,
   "metadata": {},
   "outputs": [
    {
     "name": "stdout",
     "output_type": "stream",
     "text": [
      "AtBat                      -0.01\n",
      "Hits                        0.86\n",
      "HmRun                      -0.26\n",
      "Runs                        0.72\n",
      "RBI                         1.31\n",
      "Walks                       2.08\n",
      "Years                       1.24\n",
      "CAtBat                      0.01\n",
      "CHits                       0.05\n",
      "CHmRun                      0.51\n",
      "CRuns                       0.11\n",
      "CRBI                        0.13\n",
      "CWalks                      0.10\n",
      "League                     18.75\n",
      "Division                  -91.61\n",
      "PutOuts                     0.28\n",
      "Assists                    -0.02\n",
      "Errors                     -0.30\n",
      "NewLeague                   9.99\n",
      "dtype: float64\n",
      "MSE: 99805.36301929558\n"
     ]
    }
   ],
   "source": [
    "# 위에서 나온 최적 람다 값으로 ridge regression 해보자.\n",
    "\n",
    "ridge6 = Ridge(alpha=ridge_cv.alpha_, normalize=True)\n",
    "ridge6.fit(X_train, y_train)\n",
    "y_pred6 = ridge6.predict(X_test)\n",
    "\n",
    "print(pd.Series(ridge6.coef_, index=X.columns))\n",
    "print(\"MSE:\", MSE(y_test, y_pred6))\n",
    "\n",
    "#위에서 나온 애들보다 MSE값이 제일 작다는 것을 알 수 있다."
   ]
  },
  {
   "cell_type": "markdown",
   "metadata": {},
   "source": [
    "## 2. Lasso"
   ]
  },
  {
   "cell_type": "code",
   "execution_count": 23,
   "metadata": {},
   "outputs": [],
   "source": [
    "from sklearn.preprocessing import scale\n",
    "\n",
    "grid = 10 ** np.linspace(3,-2,100)\n",
    "\n",
    "lasso_model = Lasso(normalize=True, max_iter=10000) # max_iter 설정 안 해주면 convergence warning 나올 수도 있다.\n",
    "coefs = []\n",
    "\n",
    "for a in grid:\n",
    "    lasso_model.set_params(alpha=a)\n",
    "    lasso_model.fit(scale(X_train), y_train) # lasso에 넣기 전에 scaling 해줘야 함.\n",
    "    coefs.append(lasso_model.coef_)"
   ]
  },
  {
   "cell_type": "code",
   "execution_count": 24,
   "metadata": {},
   "outputs": [
    {
     "data": {
      "image/png": "[encoded data removed]",
      "text/plain": [
       "<Figure size 432x288 with 1 Axes>"
      ]
     },
     "metadata": {
      "needs_background": "light"
     },
     "output_type": "display_data"
    }
   ],
   "source": [
    "ax = plt.gca()\n",
    "ax.plot(grid, coefs)\n",
    "ax.set_xscale('log')\n",
    "\n",
    "plt.axis('tight')\n",
    "plt.xlabel('alpha')\n",
    "plt.ylabel('weights');"
   ]
  },
  {
   "cell_type": "code",
   "execution_count": 25,
   "metadata": {},
   "outputs": [
    {
     "name": "stdout",
     "output_type": "stream",
     "text": [
      "AtBat                      -1.82\n",
      "Hits                        4.26\n",
      "HmRun                      -4.77\n",
      "Runs                       -0.04\n",
      "RBI                         3.98\n",
      "Walks                       3.47\n",
      "Years                       9.50\n",
      "CAtBat                     -0.61\n",
      "CHits                       2.17\n",
      "CHmRun                      2.98\n",
      "CRuns                       0.27\n",
      "CRBI                       -0.60\n",
      "CWalks                      0.17\n",
      "League                    133.74\n",
      "Division                 -113.74\n",
      "PutOuts                     0.42\n",
      "Assists                     0.46\n",
      "Errors                     -6.02\n",
      "NewLeague                 -81.93\n",
      "dtype: float64\n",
      "MSE: 116690.43632170075\n"
     ]
    },
    {
     "name": "stderr",
     "output_type": "stream",
     "text": [
      "C:\\Users\\admin\\Anaconda3\\lib\\site-packages\\ipykernel_launcher.py:4: UserWarning: With alpha=0, this algorithm does not converge well. You are advised to use the LinearRegression estimator\n",
      "  after removing the cwd from sys.path.\n",
      "C:\\Users\\admin\\Anaconda3\\lib\\site-packages\\sklearn\\linear_model\\_coordinate_descent.py:531: UserWarning: Coordinate descent with no regularization may lead to unexpected results and is discouraged.\n",
      "  positive)\n",
      "C:\\Users\\admin\\Anaconda3\\lib\\site-packages\\sklearn\\linear_model\\_coordinate_descent.py:531: ConvergenceWarning: Objective did not converge. You might want to increase the number of iterations. Duality gap: 5925539.461312228, tolerance: 3050.401923222197\n",
      "  positive)\n"
     ]
    }
   ],
   "source": [
    "# Lasso가 0인 경우도 마찬가지로 OLS와 같다.\n",
    "\n",
    "lasso2 = Lasso(alpha=0, normalize=True, max_iter=10000)\n",
    "lasso2.fit(X_train, y_train)\n",
    "y_pred2 = lasso2.predict(X_test)\n",
    "\n",
    "print(pd.Series(lasso2.coef_, index=X.columns))\n",
    "print(\"MSE:\", MSE(y_test, y_pred2))"
   ]
  },
  {
   "cell_type": "code",
   "execution_count": 26,
   "metadata": {},
   "outputs": [
    {
     "data": {
      "text/plain": [
       "2.364489412645407"
      ]
     },
     "execution_count": 26,
     "metadata": {},
     "output_type": "execute_result"
    }
   ],
   "source": [
    "# cross-validation 10-fold\n",
    "lasso_cv = LassoCV(alphas=grid, max_iter=100000, normalize=True, cv=10)\n",
    "lasso_cv.fit(X_train, y_train)\n",
    "lasso_cv.alpha_"
   ]
  },
  {
   "cell_type": "code",
   "execution_count": 27,
   "metadata": {},
   "outputs": [
    {
     "name": "stdout",
     "output_type": "stream",
     "text": [
      "AtBat                       0.00\n",
      "Hits                        1.09\n",
      "HmRun                       0.00\n",
      "Runs                        0.00\n",
      "RBI                         0.00\n",
      "Walks                       2.91\n",
      "Years                       0.00\n",
      "CAtBat                      0.00\n",
      "CHits                       0.00\n",
      "CHmRun                      0.22\n",
      "CRuns                       0.00\n",
      "CRBI                        0.51\n",
      "CWalks                      0.00\n",
      "League                      0.00\n",
      "Division                  -89.91\n",
      "PutOuts                     0.37\n",
      "Assists                    -0.00\n",
      "Errors                     -0.00\n",
      "NewLeague                   0.00\n",
      "dtype: float64\n",
      "MSE: 104933.7532671472\n"
     ]
    }
   ],
   "source": [
    "lasso3 = Lasso(alpha=lasso_cv.alpha_, normalize=True, max_iter=10000)\n",
    "lasso3.fit(X_train, y_train)\n",
    "y_pred3 = lasso3.predict(X_test)\n",
    "\n",
    "print(pd.Series(lasso3.coef_, index=X.columns))\n",
    "print(\"MSE:\", MSE(y_test, y_pred3))"
   ]
  },
  {
   "cell_type": "code",
   "execution_count": null,
   "metadata": {},
   "outputs": [],
   "source": []
  }
 ],
 "metadata": {
  "kernelspec": {
   "display_name": "Python 3",
   "language": "python",
   "name": "python3"
  },
  "language_info": {
   "codemirror_mode": {
    "name": "ipython",
    "version": 3
   },
   "file_extension": ".py",
   "mimetype": "text/x-python",
   "name": "python",
   "nbconvert_exporter": "python",
   "pygments_lexer": "ipython3",
   "version": "3.7.4"
  }
 },
 "nbformat": 4,
 "nbformat_minor": 2
}
