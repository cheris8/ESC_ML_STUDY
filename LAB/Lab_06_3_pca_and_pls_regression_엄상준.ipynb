{
 "cells": [
  {
   "cell_type": "markdown",
   "metadata": {},
   "source": [
    "# 1. PCA"
   ]
  },
  {
   "cell_type": "code",
   "execution_count": 1,
   "metadata": {},
   "outputs": [],
   "source": [
    "%matplotlib inline\n",
    "\n",
    "import numpy as np\n",
    "import pandas as pd\n",
    "\n",
    "import seaborn as sns\n",
    "import matplotlib.pyplot as plt\n",
    "\n",
    "pd.set_option('precision', 4)\n",
    "pd.set_option('display.max_rows', 20)\n",
    "pd.set_option('display.max_columns', 12)\n",
    "pd.set_option('display.float_format','{:20.2f}'.format)\n",
    "\n",
    "plt.style.use('seaborn')"
   ]
  },
  {
   "cell_type": "code",
   "execution_count": 2,
   "metadata": {},
   "outputs": [],
   "source": [
    "hitters = pd.read_csv('../datasets/Hitters.csv', index_col=0).dropna()\n",
    "hitters.index.name = 'Player'\n",
    "\n",
    "cols_arange = [col for col in hitters if col !=hitters.columns[-2]] + [hitters.columns[-2]]\n",
    "hitters = hitters[cols_arange]"
   ]
  },
  {
   "cell_type": "code",
   "execution_count": 3,
   "metadata": {},
   "outputs": [],
   "source": [
    "# load data\n",
    "hitters = pd.read_csv('../datasets/Hitters.csv', index_col=0).dropna()\n",
    "hitters.index.name = 'Player'\n",
    "\n",
    "cols_arange = [col for col in hitters if col !=hitters.columns[-2]] + [hitters.columns[-2]]\n",
    "hitters = hitters[cols_arange]\n",
    "\n",
    "hitters['League']= pd.get_dummies(hitters['League']).iloc[:,1]\n",
    "hitters['Division']=pd.get_dummies(hitters['Division']).iloc[:,1]\n",
    "hitters['NewLeague']=pd.get_dummies(hitters['NewLeague']).iloc[:,1]\n",
    "\n",
    "X = hitters.iloc[:, 0:19]\n",
    "y = hitters.iloc[:, 19]"
   ]
  },
  {
   "cell_type": "code",
   "execution_count": 5,
   "metadata": {},
   "outputs": [],
   "source": [
    "from sklearn.preprocessing import scale \n",
    "from sklearn.model_selection import KFold, train_test_split, cross_val_score\n",
    "from sklearn.decomposition import PCA\n",
    "from sklearn.linear_model import LinearRegression\n",
    "from sklearn.cross_decomposition import PLSRegression, PLSSVD\n",
    "from sklearn.metrics import mean_squared_error"
   ]
  },
  {
   "cell_type": "code",
   "execution_count": 6,
   "metadata": {},
   "outputs": [
    {
     "data": {
      "text/html": [
       "<div>\n",
       "<style scoped>\n",
       "    .dataframe tbody tr th:only-of-type {\n",
       "        vertical-align: middle;\n",
       "    }\n",
       "\n",
       "    .dataframe tbody tr th {\n",
       "        vertical-align: top;\n",
       "    }\n",
       "\n",
       "    .dataframe thead th {\n",
       "        text-align: right;\n",
       "    }\n",
       "</style>\n",
       "<table border=\"1\" class=\"dataframe\">\n",
       "  <thead>\n",
       "    <tr style=\"text-align: right;\">\n",
       "      <th></th>\n",
       "      <th>0</th>\n",
       "      <th>1</th>\n",
       "      <th>2</th>\n",
       "      <th>3</th>\n",
       "      <th>4</th>\n",
       "      <th>5</th>\n",
       "      <th>...</th>\n",
       "      <th>13</th>\n",
       "      <th>14</th>\n",
       "      <th>15</th>\n",
       "      <th>16</th>\n",
       "      <th>17</th>\n",
       "      <th>18</th>\n",
       "    </tr>\n",
       "  </thead>\n",
       "  <tbody>\n",
       "    <tr>\n",
       "      <td>0</td>\n",
       "      <td>-0.01</td>\n",
       "      <td>1.87</td>\n",
       "      <td>1.27</td>\n",
       "      <td>-0.94</td>\n",
       "      <td>1.11</td>\n",
       "      <td>1.21</td>\n",
       "      <td>...</td>\n",
       "      <td>0.39</td>\n",
       "      <td>0.06</td>\n",
       "      <td>0.14</td>\n",
       "      <td>0.08</td>\n",
       "      <td>0.04</td>\n",
       "      <td>-0.02</td>\n",
       "    </tr>\n",
       "    <tr>\n",
       "      <td>1</td>\n",
       "      <td>0.41</td>\n",
       "      <td>-2.43</td>\n",
       "      <td>-0.91</td>\n",
       "      <td>-0.26</td>\n",
       "      <td>1.23</td>\n",
       "      <td>1.83</td>\n",
       "      <td>...</td>\n",
       "      <td>-0.02</td>\n",
       "      <td>0.07</td>\n",
       "      <td>0.16</td>\n",
       "      <td>0.04</td>\n",
       "      <td>0.01</td>\n",
       "      <td>-0.00</td>\n",
       "    </tr>\n",
       "    <tr>\n",
       "      <td>2</td>\n",
       "      <td>3.47</td>\n",
       "      <td>0.83</td>\n",
       "      <td>0.56</td>\n",
       "      <td>-1.62</td>\n",
       "      <td>-0.86</td>\n",
       "      <td>-1.03</td>\n",
       "      <td>...</td>\n",
       "      <td>-0.38</td>\n",
       "      <td>0.23</td>\n",
       "      <td>0.01</td>\n",
       "      <td>-0.22</td>\n",
       "      <td>0.04</td>\n",
       "      <td>-0.07</td>\n",
       "    </tr>\n",
       "    <tr>\n",
       "      <td>3</td>\n",
       "      <td>-2.56</td>\n",
       "      <td>-0.23</td>\n",
       "      <td>0.52</td>\n",
       "      <td>-2.18</td>\n",
       "      <td>-0.82</td>\n",
       "      <td>1.49</td>\n",
       "      <td>...</td>\n",
       "      <td>0.03</td>\n",
       "      <td>0.04</td>\n",
       "      <td>0.05</td>\n",
       "      <td>-0.04</td>\n",
       "      <td>0.01</td>\n",
       "      <td>-0.01</td>\n",
       "    </tr>\n",
       "    <tr>\n",
       "      <td>4</td>\n",
       "      <td>1.03</td>\n",
       "      <td>-1.57</td>\n",
       "      <td>1.33</td>\n",
       "      <td>3.49</td>\n",
       "      <td>0.98</td>\n",
       "      <td>0.51</td>\n",
       "      <td>...</td>\n",
       "      <td>-0.09</td>\n",
       "      <td>0.04</td>\n",
       "      <td>0.01</td>\n",
       "      <td>-0.05</td>\n",
       "      <td>0.13</td>\n",
       "      <td>-0.07</td>\n",
       "    </tr>\n",
       "    <tr>\n",
       "      <td>...</td>\n",
       "      <td>...</td>\n",
       "      <td>...</td>\n",
       "      <td>...</td>\n",
       "      <td>...</td>\n",
       "      <td>...</td>\n",
       "      <td>...</td>\n",
       "      <td>...</td>\n",
       "      <td>...</td>\n",
       "      <td>...</td>\n",
       "      <td>...</td>\n",
       "      <td>...</td>\n",
       "      <td>...</td>\n",
       "      <td>...</td>\n",
       "    </tr>\n",
       "    <tr>\n",
       "      <td>258</td>\n",
       "      <td>-0.33</td>\n",
       "      <td>-0.17</td>\n",
       "      <td>0.78</td>\n",
       "      <td>-1.54</td>\n",
       "      <td>-1.04</td>\n",
       "      <td>-0.31</td>\n",
       "      <td>...</td>\n",
       "      <td>-0.16</td>\n",
       "      <td>0.23</td>\n",
       "      <td>-0.22</td>\n",
       "      <td>0.13</td>\n",
       "      <td>-0.06</td>\n",
       "      <td>-0.01</td>\n",
       "    </tr>\n",
       "    <tr>\n",
       "      <td>259</td>\n",
       "      <td>3.25</td>\n",
       "      <td>-0.54</td>\n",
       "      <td>1.21</td>\n",
       "      <td>2.75</td>\n",
       "      <td>-1.20</td>\n",
       "      <td>0.83</td>\n",
       "      <td>...</td>\n",
       "      <td>0.32</td>\n",
       "      <td>-0.14</td>\n",
       "      <td>0.01</td>\n",
       "      <td>-0.15</td>\n",
       "      <td>-0.05</td>\n",
       "      <td>-0.06</td>\n",
       "    </tr>\n",
       "    <tr>\n",
       "      <td>260</td>\n",
       "      <td>-1.09</td>\n",
       "      <td>-0.75</td>\n",
       "      <td>-0.94</td>\n",
       "      <td>1.07</td>\n",
       "      <td>0.71</td>\n",
       "      <td>-0.64</td>\n",
       "      <td>...</td>\n",
       "      <td>0.09</td>\n",
       "      <td>0.06</td>\n",
       "      <td>-0.10</td>\n",
       "      <td>-0.08</td>\n",
       "      <td>0.07</td>\n",
       "      <td>0.01</td>\n",
       "    </tr>\n",
       "    <tr>\n",
       "      <td>261</td>\n",
       "      <td>1.98</td>\n",
       "      <td>-2.18</td>\n",
       "      <td>-0.28</td>\n",
       "      <td>-0.22</td>\n",
       "      <td>-0.69</td>\n",
       "      <td>3.51</td>\n",
       "      <td>...</td>\n",
       "      <td>-0.23</td>\n",
       "      <td>0.02</td>\n",
       "      <td>-0.26</td>\n",
       "      <td>-0.01</td>\n",
       "      <td>0.02</td>\n",
       "      <td>-0.01</td>\n",
       "    </tr>\n",
       "    <tr>\n",
       "      <td>262</td>\n",
       "      <td>1.83</td>\n",
       "      <td>-0.30</td>\n",
       "      <td>-1.06</td>\n",
       "      <td>0.49</td>\n",
       "      <td>0.92</td>\n",
       "      <td>0.28</td>\n",
       "      <td>...</td>\n",
       "      <td>0.02</td>\n",
       "      <td>0.66</td>\n",
       "      <td>-0.19</td>\n",
       "      <td>-0.30</td>\n",
       "      <td>-0.08</td>\n",
       "      <td>-0.04</td>\n",
       "    </tr>\n",
       "  </tbody>\n",
       "</table>\n",
       "<p>263 rows × 19 columns</p>\n",
       "</div>"
      ],
      "text/plain": [
       "                      0                    1                    2   \\\n",
       "0                  -0.01                 1.87                 1.27   \n",
       "1                   0.41                -2.43                -0.91   \n",
       "2                   3.47                 0.83                 0.56   \n",
       "3                  -2.56                -0.23                 0.52   \n",
       "4                   1.03                -1.57                 1.33   \n",
       "..                   ...                  ...                  ...   \n",
       "258                -0.33                -0.17                 0.78   \n",
       "259                 3.25                -0.54                 1.21   \n",
       "260                -1.09                -0.75                -0.94   \n",
       "261                 1.98                -2.18                -0.28   \n",
       "262                 1.83                -0.30                -1.06   \n",
       "\n",
       "                      3                    4                    5   ...  \\\n",
       "0                  -0.94                 1.11                 1.21  ...   \n",
       "1                  -0.26                 1.23                 1.83  ...   \n",
       "2                  -1.62                -0.86                -1.03  ...   \n",
       "3                  -2.18                -0.82                 1.49  ...   \n",
       "4                   3.49                 0.98                 0.51  ...   \n",
       "..                   ...                  ...                  ...  ...   \n",
       "258                -1.54                -1.04                -0.31  ...   \n",
       "259                 2.75                -1.20                 0.83  ...   \n",
       "260                 1.07                 0.71                -0.64  ...   \n",
       "261                -0.22                -0.69                 3.51  ...   \n",
       "262                 0.49                 0.92                 0.28  ...   \n",
       "\n",
       "                      13                   14                   15  \\\n",
       "0                   0.39                 0.06                 0.14   \n",
       "1                  -0.02                 0.07                 0.16   \n",
       "2                  -0.38                 0.23                 0.01   \n",
       "3                   0.03                 0.04                 0.05   \n",
       "4                  -0.09                 0.04                 0.01   \n",
       "..                   ...                  ...                  ...   \n",
       "258                -0.16                 0.23                -0.22   \n",
       "259                 0.32                -0.14                 0.01   \n",
       "260                 0.09                 0.06                -0.10   \n",
       "261                -0.23                 0.02                -0.26   \n",
       "262                 0.02                 0.66                -0.19   \n",
       "\n",
       "                      16                   17                   18  \n",
       "0                   0.08                 0.04                -0.02  \n",
       "1                   0.04                 0.01                -0.00  \n",
       "2                  -0.22                 0.04                -0.07  \n",
       "3                  -0.04                 0.01                -0.01  \n",
       "4                  -0.05                 0.13                -0.07  \n",
       "..                   ...                  ...                  ...  \n",
       "258                 0.13                -0.06                -0.01  \n",
       "259                -0.15                -0.05                -0.06  \n",
       "260                -0.08                 0.07                 0.01  \n",
       "261                -0.01                 0.02                -0.01  \n",
       "262                -0.30                -0.08                -0.04  \n",
       "\n",
       "[263 rows x 19 columns]"
      ]
     },
     "execution_count": 6,
     "metadata": {},
     "output_type": "execute_result"
    }
   ],
   "source": [
    "pca = PCA()\n",
    "X_pca = pca.fit_transform(scale(X))\n",
    "pd.DataFrame(X_pca)"
   ]
  },
  {
   "cell_type": "code",
   "execution_count": 9,
   "metadata": {},
   "outputs": [
    {
     "data": {
      "image/png": "[encoded data removed]",
      "text/plain": [
       "<Figure size 432x288 with 1 Axes>"
      ]
     },
     "metadata": {
      "needs_background": "light"
     },
     "output_type": "display_data"
    }
   ],
   "source": [
    "# 10-fold CV, with shuffle\n",
    "\n",
    "n=len(X_pca)\n",
    "k10 = KFold(n, n_splits=10, shuffle = True, random_state=42)\n",
    "\n",
    "lin_reg = LinearRegression()\n",
    "rmse = []\n",
    "\n",
    "# Intercept만 있는 경우 MSE\n",
    "score = -1 * cross_val_score(lin_reg, np.ones((n,1)), y, cv=k10, scoring='neg_mean_squared_error').mean()\n",
    "#scoring 방법이 neg가 붙기 때문에 앞에 1을 곱해주어야 한다.\n",
    "\n",
    "rmse.append(np.sqrt(score))\n",
    "\n",
    "# Principal Component를 하나씩 추가할 때마다 RMSE가 어떻게 변하는지.\n",
    "for i in np.arange(1, 20):\n",
    "    score = -1 * cross_val_score(lin_reg, X_pca[:, :i], y, cv=k10, scoring='neg_mean_squared_error').mean()\n",
    "    rmse.append(np.sqrt(score))\n",
    "\n",
    "min_rmse = np.array(rmse).argmin()\n",
    "\n",
    "plt.plot(rmse, '-D')\n",
    "plt.plot(rmse, markevery=[min_rmse], marker='X', lw=0, color='red')\n",
    "plt.xlabel('# of PC')\n",
    "plt.ylabel('RMSE');"
   ]
  },
  {
   "cell_type": "code",
   "execution_count": 10,
   "metadata": {},
   "outputs": [
    {
     "data": {
      "text/plain": [
       "array([ 38.31423957,  60.15531541,  70.8416746 ,  79.03419435,\n",
       "        84.29027516,  88.63477938,  92.26288766,  94.96304322,\n",
       "        96.28269124,  97.25541298,  97.97775424,  98.64870031,\n",
       "        99.15178693,  99.4730334 ,  99.74659124,  99.89398793,\n",
       "        99.96815949,  99.99375108, 100.        ])"
      ]
     },
     "execution_count": 10,
     "metadata": {},
     "output_type": "execute_result"
    }
   ],
   "source": [
    "np.cumsum(pca.explained_variance_ratio_ * 100)"
   ]
  },
  {
   "cell_type": "code",
   "execution_count": 11,
   "metadata": {},
   "outputs": [
    {
     "data": {
      "image/png": "[encoded data removed]",
      "text/plain": [
       "<Figure size 432x288 with 1 Axes>"
      ]
     },
     "metadata": {
      "needs_background": "light"
     },
     "output_type": "display_data"
    }
   ],
   "source": [
    "# validation set approach\n",
    "\n",
    "X_train, X_test, y_train, y_test = train_test_split(X, y, test_size = 0.5, random_state=1)\n",
    "\n",
    "pca2 = PCA()\n",
    "X_train_pca2 = pca2.fit_transform(scale(X_train))\n",
    "# X_train 변수를 pc 변환 해줌.\n",
    "\n",
    "n = len(X_train_pca2)\n",
    "k10_2 = KFold(n, n_splits=10, shuffle = True, random_state=1)\n",
    "\n",
    "lin_reg2 = LinearRegression()\n",
    "rmse2 = []\n",
    "\n",
    "# intercept만 있는 경우\n",
    "score = -1 * cross_val_score(lin_reg2, np.ones((n,1)), y_train, cv=k10_2, scoring='neg_mean_squared_error').mean()\n",
    "rmse2.append(np.sqrt(score))\n",
    "\n",
    "# MSE for the 19 prinipal components\n",
    "for i in np.arange(1, 20):\n",
    "    score = -1 * cross_val_score(lin_reg2, X_train_pca2[:, :i], y_train, cv=k10_2, scoring='neg_mean_squared_error').mean()\n",
    "    rmse2.append(np.sqrt(score))\n",
    "\n",
    "min_rmse = np.array(rmse2).argmin()\n",
    "\n",
    "plt.plot(rmse2, '-D')\n",
    "plt.plot(rmse2, markevery=[min_rmse], marker='X', lw=0, color='red')\n",
    "plt.xlabel('# of PC')\n",
    "plt.ylabel('RMSE')\n",
    "plt.xticks([0,5,10,15,20]);"
   ]
  },
  {
   "cell_type": "code",
   "execution_count": 18,
   "metadata": {},
   "outputs": [
    {
     "data": {
      "text/plain": [
       "6"
      ]
     },
     "execution_count": 18,
     "metadata": {},
     "output_type": "execute_result"
    }
   ],
   "source": [
    "min_rmse"
   ]
  },
  {
   "cell_type": "code",
   "execution_count": 19,
   "metadata": {},
   "outputs": [
    {
     "data": {
      "text/plain": [
       "114098.05632066303"
      ]
     },
     "execution_count": 19,
     "metadata": {},
     "output_type": "execute_result"
    }
   ],
   "source": [
    "# 6개의 principal component를 가지고 regression 돌려서 test set과 MSE를 구해보자.\n",
    "\n",
    "X_train_pca3 = pca2.fit_transform(scale(X_train))[:,:7] #:7로 해야 6개까지 됨.\n",
    "X_test_pca3 = pca2.fit_transform(scale(X_test))[:, :7]\n",
    "\n",
    "lin_reg3 = LinearRegression().fit(X_train_pca3, y_train)\n",
    "pred_pca3 = lin_reg3.predict(X_test_pca3)\n",
    "\n",
    "mean_squared_error(y_test, pred_pca3)"
   ]
  },
  {
   "cell_type": "markdown",
   "metadata": {},
   "source": [
    "# 2. Partial Least Squares"
   ]
  },
  {
   "cell_type": "code",
   "execution_count": 24,
   "metadata": {},
   "outputs": [
    {
     "data": {
      "image/png": "[encoded data removed]",
      "text/plain": [
       "<Figure size 432x288 with 1 Axes>"
      ]
     },
     "metadata": {
      "needs_background": "light"
     },
     "output_type": "display_data"
    }
   ],
   "source": [
    "# 10-fold CV, with shuffle\n",
    "\n",
    "n = len(X_train)\n",
    "k10 = KFold(n, n_splits=10, shuffle=True, random_state=1)\n",
    "\n",
    "rmse=[]\n",
    "\n",
    "for i in np.arange(1, 20):\n",
    "    pls = PLSRegression(n_components=i)\n",
    "    score = -1 * cross_val_score(pls, scale(X_train), y_train, cv=k10, scoring='neg_mean_squared_error').mean()\n",
    "    rmse.append(np.sqrt(score))\n",
    "    \n",
    "min_rmse = np.array(rmse).argmin()\n",
    "\n",
    "plt.plot(rmse, '-D')\n",
    "plt.plot(rmse, markevery=[min_rmse], marker='X', lw=0, color='red')\n",
    "plt.xlabel('# of PC')\n",
    "plt.ylabel('RMSE')\n",
    "plt.xticks([0,5,10,15,20]);"
   ]
  },
  {
   "cell_type": "code",
   "execution_count": 25,
   "metadata": {},
   "outputs": [
    {
     "data": {
      "text/plain": [
       "2"
      ]
     },
     "execution_count": 25,
     "metadata": {},
     "output_type": "execute_result"
    }
   ],
   "source": [
    "min_rmse"
   ]
  },
  {
   "cell_type": "code",
   "execution_count": 26,
   "metadata": {},
   "outputs": [
    {
     "data": {
      "text/plain": [
       "104838.51042760804"
      ]
     },
     "execution_count": 26,
     "metadata": {},
     "output_type": "execute_result"
    }
   ],
   "source": [
    "pls = PLSRegression(n_components=2)\n",
    "pls.fit(scale(X_train), y_train)\n",
    "\n",
    "mean_squared_error(y_test, pls.predict(scale(X_test)))"
   ]
  }
 ],
 "metadata": {
  "kernelspec": {
   "display_name": "Python 3",
   "language": "python",
   "name": "python3"
  },
  "language_info": {
   "codemirror_mode": {
    "name": "ipython",
    "version": 3
   },
   "file_extension": ".py",
   "mimetype": "text/x-python",
   "name": "python",
   "nbconvert_exporter": "python",
   "pygments_lexer": "ipython3",
   "version": "3.7.4"
  }
 },
 "nbformat": 4,
 "nbformat_minor": 2
}
