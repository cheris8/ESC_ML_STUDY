{
 "cells": [
  {
   "cell_type": "markdown",
   "metadata": {},
   "source": [
    "# 5.3 Lab: Cross-Validation and the Bootstrap"
   ]
  },
  {
   "cell_type": "markdown",
   "metadata": {},
   "source": [
    "## 5.3.1 The Validation Set Approach"
   ]
  },
  {
   "cell_type": "markdown",
   "metadata": {},
   "source": [
    "### estimate test error for linear, quadratic, cubic regressions"
   ]
  },
  {
   "cell_type": "code",
   "execution_count": 1,
   "metadata": {},
   "outputs": [],
   "source": [
    "import numpy as np\n",
    "import pandas as pd\n",
    "\n",
    "pd.set_option('precision',2)\n",
    "pd.set_option('display.max_rows',12)\n",
    "pd.set_option('display.float_format', '{:20,.2f}'.format)"
   ]
  },
  {
   "cell_type": "code",
   "execution_count": 2,
   "metadata": {},
   "outputs": [
    {
     "data": {
      "text/plain": [
       "mpg             0\n",
       "cylinders       0\n",
       "displacement    0\n",
       "horsepower      0\n",
       "weight          0\n",
       "acceleration    0\n",
       "year            0\n",
       "origin          0\n",
       "name            0\n",
       "dtype: int64"
      ]
     },
     "execution_count": 2,
     "metadata": {},
     "output_type": "execute_result"
    }
   ],
   "source": [
    "#데이터 불러오기\n",
    "\n",
    "auto=pd.read_csv(\"C:/Users/Coby/Desktop/ESC_ML_STUDY/datasets/Auto.csv\")\n",
    "\n",
    "\n",
    "#na는 ?처리\n",
    "auto=pd.read_csv(\"C:/Users/Coby/Desktop/ESC_ML_STUDY/datasets/Auto.csv\", na_values=[\"?\"])\n",
    "\n",
    "#na drop\n",
    "auto.dropna(axis=0, inplace=True) #inplace해서 auto에 바로 반영 #axis=0은 열 방향으로 drop\n",
    "\n",
    "auto.isna().sum()\n",
    "auto.isnull().sum()"
   ]
  },
  {
   "cell_type": "code",
   "execution_count": 3,
   "metadata": {},
   "outputs": [
    {
     "data": {
      "text/html": [
       "<div>\n",
       "<style scoped>\n",
       "    .dataframe tbody tr th:only-of-type {\n",
       "        vertical-align: middle;\n",
       "    }\n",
       "\n",
       "    .dataframe tbody tr th {\n",
       "        vertical-align: top;\n",
       "    }\n",
       "\n",
       "    .dataframe thead th {\n",
       "        text-align: right;\n",
       "    }\n",
       "</style>\n",
       "<table border=\"1\" class=\"dataframe\">\n",
       "  <thead>\n",
       "    <tr style=\"text-align: right;\">\n",
       "      <th></th>\n",
       "      <th>mpg</th>\n",
       "      <th>cylinders</th>\n",
       "      <th>displacement</th>\n",
       "      <th>horsepower</th>\n",
       "      <th>weight</th>\n",
       "      <th>acceleration</th>\n",
       "      <th>year</th>\n",
       "      <th>origin</th>\n",
       "      <th>name</th>\n",
       "    </tr>\n",
       "  </thead>\n",
       "  <tbody>\n",
       "    <tr>\n",
       "      <th>0</th>\n",
       "      <td>18.00</td>\n",
       "      <td>8</td>\n",
       "      <td>307.00</td>\n",
       "      <td>130.00</td>\n",
       "      <td>3504</td>\n",
       "      <td>12.00</td>\n",
       "      <td>70</td>\n",
       "      <td>1</td>\n",
       "      <td>chevrolet chevelle malibu</td>\n",
       "    </tr>\n",
       "    <tr>\n",
       "      <th>1</th>\n",
       "      <td>15.00</td>\n",
       "      <td>8</td>\n",
       "      <td>350.00</td>\n",
       "      <td>165.00</td>\n",
       "      <td>3693</td>\n",
       "      <td>11.50</td>\n",
       "      <td>70</td>\n",
       "      <td>1</td>\n",
       "      <td>buick skylark 320</td>\n",
       "    </tr>\n",
       "    <tr>\n",
       "      <th>2</th>\n",
       "      <td>18.00</td>\n",
       "      <td>8</td>\n",
       "      <td>318.00</td>\n",
       "      <td>150.00</td>\n",
       "      <td>3436</td>\n",
       "      <td>11.00</td>\n",
       "      <td>70</td>\n",
       "      <td>1</td>\n",
       "      <td>plymouth satellite</td>\n",
       "    </tr>\n",
       "    <tr>\n",
       "      <th>3</th>\n",
       "      <td>16.00</td>\n",
       "      <td>8</td>\n",
       "      <td>304.00</td>\n",
       "      <td>150.00</td>\n",
       "      <td>3433</td>\n",
       "      <td>12.00</td>\n",
       "      <td>70</td>\n",
       "      <td>1</td>\n",
       "      <td>amc rebel sst</td>\n",
       "    </tr>\n",
       "    <tr>\n",
       "      <th>4</th>\n",
       "      <td>17.00</td>\n",
       "      <td>8</td>\n",
       "      <td>302.00</td>\n",
       "      <td>140.00</td>\n",
       "      <td>3449</td>\n",
       "      <td>10.50</td>\n",
       "      <td>70</td>\n",
       "      <td>1</td>\n",
       "      <td>ford torino</td>\n",
       "    </tr>\n",
       "  </tbody>\n",
       "</table>\n",
       "</div>"
      ],
      "text/plain": [
       "                   mpg  cylinders         displacement           horsepower  \\\n",
       "0                18.00          8               307.00               130.00   \n",
       "1                15.00          8               350.00               165.00   \n",
       "2                18.00          8               318.00               150.00   \n",
       "3                16.00          8               304.00               150.00   \n",
       "4                17.00          8               302.00               140.00   \n",
       "\n",
       "   weight         acceleration  year  origin                       name  \n",
       "0    3504                12.00    70       1  chevrolet chevelle malibu  \n",
       "1    3693                11.50    70       1          buick skylark 320  \n",
       "2    3436                11.00    70       1         plymouth satellite  \n",
       "3    3433                12.00    70       1              amc rebel sst  \n",
       "4    3449                10.50    70       1                ford torino  "
      ]
     },
     "execution_count": 3,
     "metadata": {},
     "output_type": "execute_result"
    }
   ],
   "source": [
    "auto.head()"
   ]
  },
  {
   "cell_type": "code",
   "execution_count": 4,
   "metadata": {},
   "outputs": [],
   "source": [
    "auto.cylinders=auto.cylinders.astype('category') #numeric에서 category로\n",
    "auto.name=auto.name.astype('category') #str에서 category로"
   ]
  },
  {
   "cell_type": "code",
   "execution_count": 5,
   "metadata": {},
   "outputs": [
    {
     "data": {
      "text/html": [
       "<div>\n",
       "<style scoped>\n",
       "    .dataframe tbody tr th:only-of-type {\n",
       "        vertical-align: middle;\n",
       "    }\n",
       "\n",
       "    .dataframe tbody tr th {\n",
       "        vertical-align: top;\n",
       "    }\n",
       "\n",
       "    .dataframe thead th {\n",
       "        text-align: right;\n",
       "    }\n",
       "</style>\n",
       "<table border=\"1\" class=\"dataframe\">\n",
       "  <thead>\n",
       "    <tr style=\"text-align: right;\">\n",
       "      <th></th>\n",
       "      <th>index</th>\n",
       "      <th>mpg</th>\n",
       "      <th>cylinders</th>\n",
       "      <th>displacement</th>\n",
       "      <th>horsepower</th>\n",
       "      <th>weight</th>\n",
       "      <th>acceleration</th>\n",
       "      <th>year</th>\n",
       "      <th>origin</th>\n",
       "      <th>name</th>\n",
       "    </tr>\n",
       "  </thead>\n",
       "  <tbody>\n",
       "    <tr>\n",
       "      <th>0</th>\n",
       "      <td>0</td>\n",
       "      <td>18.00</td>\n",
       "      <td>8</td>\n",
       "      <td>307.00</td>\n",
       "      <td>130.00</td>\n",
       "      <td>3504</td>\n",
       "      <td>12.00</td>\n",
       "      <td>70</td>\n",
       "      <td>1</td>\n",
       "      <td>chevrolet chevelle malibu</td>\n",
       "    </tr>\n",
       "    <tr>\n",
       "      <th>1</th>\n",
       "      <td>1</td>\n",
       "      <td>15.00</td>\n",
       "      <td>8</td>\n",
       "      <td>350.00</td>\n",
       "      <td>165.00</td>\n",
       "      <td>3693</td>\n",
       "      <td>11.50</td>\n",
       "      <td>70</td>\n",
       "      <td>1</td>\n",
       "      <td>buick skylark 320</td>\n",
       "    </tr>\n",
       "    <tr>\n",
       "      <th>2</th>\n",
       "      <td>2</td>\n",
       "      <td>18.00</td>\n",
       "      <td>8</td>\n",
       "      <td>318.00</td>\n",
       "      <td>150.00</td>\n",
       "      <td>3436</td>\n",
       "      <td>11.00</td>\n",
       "      <td>70</td>\n",
       "      <td>1</td>\n",
       "      <td>plymouth satellite</td>\n",
       "    </tr>\n",
       "    <tr>\n",
       "      <th>3</th>\n",
       "      <td>3</td>\n",
       "      <td>16.00</td>\n",
       "      <td>8</td>\n",
       "      <td>304.00</td>\n",
       "      <td>150.00</td>\n",
       "      <td>3433</td>\n",
       "      <td>12.00</td>\n",
       "      <td>70</td>\n",
       "      <td>1</td>\n",
       "      <td>amc rebel sst</td>\n",
       "    </tr>\n",
       "    <tr>\n",
       "      <th>4</th>\n",
       "      <td>4</td>\n",
       "      <td>17.00</td>\n",
       "      <td>8</td>\n",
       "      <td>302.00</td>\n",
       "      <td>140.00</td>\n",
       "      <td>3449</td>\n",
       "      <td>10.50</td>\n",
       "      <td>70</td>\n",
       "      <td>1</td>\n",
       "      <td>ford torino</td>\n",
       "    </tr>\n",
       "    <tr>\n",
       "      <th>...</th>\n",
       "      <td>...</td>\n",
       "      <td>...</td>\n",
       "      <td>...</td>\n",
       "      <td>...</td>\n",
       "      <td>...</td>\n",
       "      <td>...</td>\n",
       "      <td>...</td>\n",
       "      <td>...</td>\n",
       "      <td>...</td>\n",
       "      <td>...</td>\n",
       "    </tr>\n",
       "    <tr>\n",
       "      <th>387</th>\n",
       "      <td>392</td>\n",
       "      <td>27.00</td>\n",
       "      <td>4</td>\n",
       "      <td>140.00</td>\n",
       "      <td>86.00</td>\n",
       "      <td>2790</td>\n",
       "      <td>15.60</td>\n",
       "      <td>82</td>\n",
       "      <td>1</td>\n",
       "      <td>ford mustang gl</td>\n",
       "    </tr>\n",
       "    <tr>\n",
       "      <th>388</th>\n",
       "      <td>393</td>\n",
       "      <td>44.00</td>\n",
       "      <td>4</td>\n",
       "      <td>97.00</td>\n",
       "      <td>52.00</td>\n",
       "      <td>2130</td>\n",
       "      <td>24.60</td>\n",
       "      <td>82</td>\n",
       "      <td>2</td>\n",
       "      <td>vw pickup</td>\n",
       "    </tr>\n",
       "    <tr>\n",
       "      <th>389</th>\n",
       "      <td>394</td>\n",
       "      <td>32.00</td>\n",
       "      <td>4</td>\n",
       "      <td>135.00</td>\n",
       "      <td>84.00</td>\n",
       "      <td>2295</td>\n",
       "      <td>11.60</td>\n",
       "      <td>82</td>\n",
       "      <td>1</td>\n",
       "      <td>dodge rampage</td>\n",
       "    </tr>\n",
       "    <tr>\n",
       "      <th>390</th>\n",
       "      <td>395</td>\n",
       "      <td>28.00</td>\n",
       "      <td>4</td>\n",
       "      <td>120.00</td>\n",
       "      <td>79.00</td>\n",
       "      <td>2625</td>\n",
       "      <td>18.60</td>\n",
       "      <td>82</td>\n",
       "      <td>1</td>\n",
       "      <td>ford ranger</td>\n",
       "    </tr>\n",
       "    <tr>\n",
       "      <th>391</th>\n",
       "      <td>396</td>\n",
       "      <td>31.00</td>\n",
       "      <td>4</td>\n",
       "      <td>119.00</td>\n",
       "      <td>82.00</td>\n",
       "      <td>2720</td>\n",
       "      <td>19.40</td>\n",
       "      <td>82</td>\n",
       "      <td>1</td>\n",
       "      <td>chevy s-10</td>\n",
       "    </tr>\n",
       "  </tbody>\n",
       "</table>\n",
       "<p>392 rows × 10 columns</p>\n",
       "</div>"
      ],
      "text/plain": [
       "     index                  mpg cylinders         displacement  \\\n",
       "0        0                18.00         8               307.00   \n",
       "1        1                15.00         8               350.00   \n",
       "2        2                18.00         8               318.00   \n",
       "3        3                16.00         8               304.00   \n",
       "4        4                17.00         8               302.00   \n",
       "..     ...                  ...       ...                  ...   \n",
       "387    392                27.00         4               140.00   \n",
       "388    393                44.00         4                97.00   \n",
       "389    394                32.00         4               135.00   \n",
       "390    395                28.00         4               120.00   \n",
       "391    396                31.00         4               119.00   \n",
       "\n",
       "              horsepower  weight         acceleration  year  origin  \\\n",
       "0                 130.00    3504                12.00    70       1   \n",
       "1                 165.00    3693                11.50    70       1   \n",
       "2                 150.00    3436                11.00    70       1   \n",
       "3                 150.00    3433                12.00    70       1   \n",
       "4                 140.00    3449                10.50    70       1   \n",
       "..                   ...     ...                  ...   ...     ...   \n",
       "387                86.00    2790                15.60    82       1   \n",
       "388                52.00    2130                24.60    82       2   \n",
       "389                84.00    2295                11.60    82       1   \n",
       "390                79.00    2625                18.60    82       1   \n",
       "391                82.00    2720                19.40    82       1   \n",
       "\n",
       "                          name  \n",
       "0    chevrolet chevelle malibu  \n",
       "1            buick skylark 320  \n",
       "2           plymouth satellite  \n",
       "3                amc rebel sst  \n",
       "4                  ford torino  \n",
       "..                         ...  \n",
       "387            ford mustang gl  \n",
       "388                  vw pickup  \n",
       "389              dodge rampage  \n",
       "390                ford ranger  \n",
       "391                 chevy s-10  \n",
       "\n",
       "[392 rows x 10 columns]"
      ]
     },
     "execution_count": 5,
     "metadata": {},
     "output_type": "execute_result"
    }
   ],
   "source": [
    "auto.reset_index(inplace=True)\n",
    "auto"
   ]
  },
  {
   "cell_type": "code",
   "execution_count": 6,
   "metadata": {},
   "outputs": [],
   "source": [
    "auto['horsepower_2']=pow(auto.horsepower,2)\n",
    "auto['horsepower_3']=np.power(auto.horsepower,3)\n",
    "auto['horsepower_4']=auto.horsepower**4\n",
    "auto['horsepower_5']=pow(auto.horsepower,5)"
   ]
  },
  {
   "cell_type": "code",
   "execution_count": 7,
   "metadata": {},
   "outputs": [
    {
     "data": {
      "text/plain": [
       "array([[1.30000000e+02, 1.69000000e+04, 2.19700000e+06, 2.85610000e+08,\n",
       "        3.71293000e+10],\n",
       "       [1.65000000e+02, 2.72250000e+04, 4.49212500e+06, 7.41200625e+08,\n",
       "        1.22298103e+11],\n",
       "       [1.50000000e+02, 2.25000000e+04, 3.37500000e+06, 5.06250000e+08,\n",
       "        7.59375000e+10],\n",
       "       ...,\n",
       "       [8.40000000e+01, 7.05600000e+03, 5.92704000e+05, 4.97871360e+07,\n",
       "        4.18211942e+09],\n",
       "       [7.90000000e+01, 6.24100000e+03, 4.93039000e+05, 3.89500810e+07,\n",
       "        3.07705640e+09],\n",
       "       [8.20000000e+01, 6.72400000e+03, 5.51368000e+05, 4.52121760e+07,\n",
       "        3.70739843e+09]])"
      ]
     },
     "execution_count": 7,
     "metadata": {},
     "output_type": "execute_result"
    }
   ],
   "source": [
    "# Polynomial Features using sklearn:\n",
    "from sklearn.preprocessing import PolynomialFeatures\n",
    "pol=PolynomialFeatures(degree=5, interaction_only=False, include_bias=False)\n",
    "#https://scikit-learn.org/stable/modules/generated/sklearn.preprocessing.PolynomialFeatures.html\n",
    "#interaction term만 추가, bias항, 즉 constant항 추가\n",
    "polyf=pol.fit_transform(auto.loc[:,\"horsepower\"].values.reshape(-1,1)) #.values는 array로 출력 #column vector형성\n",
    "#이렇게 하면 polf는 1열이 horsepower1차 2열이 2차 ... 5열이 5차인 매트릭스 형태의 array로 만들어짐.\n",
    "polyf #(nx5)형태"
   ]
  },
  {
   "cell_type": "code",
   "execution_count": 8,
   "metadata": {},
   "outputs": [],
   "source": [
    "#split data\n",
    "\n",
    "from sklearn.model_selection import train_test_split\n",
    "\n",
    "#X행렬, y벡터 형성\n",
    "X,y=auto.loc[:,['horsepower','horsepower_2','horsepower_3']], auto.mpg \n",
    "\n",
    "#training set, testing set으로 나눔\n",
    "#https://stackoverflow.com/questions/28064634/random-state-pseudo-random-number-in-scikit-learn\n",
    "\n",
    "X_train, X_test, y_train, y_test = train_test_split(X, y, test_size=0.5, random_state=42) #random state는 seed와 비슷"
   ]
  },
  {
   "cell_type": "code",
   "execution_count": 9,
   "metadata": {},
   "outputs": [
    {
     "data": {
      "text/plain": [
       "(196,)"
      ]
     },
     "execution_count": 9,
     "metadata": {},
     "output_type": "execute_result"
    }
   ],
   "source": [
    "X_train.loc[:,'horsepower'].values.shape\n",
    "# .values까지만 하면 shape (196,) -> 196개 내열 -> column matrix로 바꿔야함"
   ]
  },
  {
   "cell_type": "code",
   "execution_count": 10,
   "metadata": {},
   "outputs": [
    {
     "data": {
      "text/html": [
       "<div>\n",
       "<style scoped>\n",
       "    .dataframe tbody tr th:only-of-type {\n",
       "        vertical-align: middle;\n",
       "    }\n",
       "\n",
       "    .dataframe tbody tr th {\n",
       "        vertical-align: top;\n",
       "    }\n",
       "\n",
       "    .dataframe thead th {\n",
       "        text-align: right;\n",
       "    }\n",
       "</style>\n",
       "<table border=\"1\" class=\"dataframe\">\n",
       "  <thead>\n",
       "    <tr style=\"text-align: right;\">\n",
       "      <th></th>\n",
       "      <th>horsepower</th>\n",
       "    </tr>\n",
       "  </thead>\n",
       "  <tbody>\n",
       "    <tr>\n",
       "      <th>222</th>\n",
       "      <td>130.00</td>\n",
       "    </tr>\n",
       "    <tr>\n",
       "      <th>368</th>\n",
       "      <td>92.00</td>\n",
       "    </tr>\n",
       "    <tr>\n",
       "      <th>129</th>\n",
       "      <td>65.00</td>\n",
       "    </tr>\n",
       "    <tr>\n",
       "      <th>38</th>\n",
       "      <td>175.00</td>\n",
       "    </tr>\n",
       "    <tr>\n",
       "      <th>11</th>\n",
       "      <td>160.00</td>\n",
       "    </tr>\n",
       "    <tr>\n",
       "      <th>...</th>\n",
       "      <td>...</td>\n",
       "    </tr>\n",
       "    <tr>\n",
       "      <th>71</th>\n",
       "      <td>150.00</td>\n",
       "    </tr>\n",
       "    <tr>\n",
       "      <th>106</th>\n",
       "      <td>100.00</td>\n",
       "    </tr>\n",
       "    <tr>\n",
       "      <th>270</th>\n",
       "      <td>85.00</td>\n",
       "    </tr>\n",
       "    <tr>\n",
       "      <th>348</th>\n",
       "      <td>65.00</td>\n",
       "    </tr>\n",
       "    <tr>\n",
       "      <th>102</th>\n",
       "      <td>150.00</td>\n",
       "    </tr>\n",
       "  </tbody>\n",
       "</table>\n",
       "<p>196 rows × 1 columns</p>\n",
       "</div>"
      ],
      "text/plain": [
       "              horsepower\n",
       "222               130.00\n",
       "368                92.00\n",
       "129                65.00\n",
       "38                175.00\n",
       "11                160.00\n",
       "..                   ...\n",
       "71                150.00\n",
       "106               100.00\n",
       "270                85.00\n",
       "348                65.00\n",
       "102               150.00\n",
       "\n",
       "[196 rows x 1 columns]"
      ]
     },
     "execution_count": 10,
     "metadata": {},
     "output_type": "execute_result"
    }
   ],
   "source": [
    "X_train.loc[:,[\"horsepower\"]]"
   ]
  },
  {
   "cell_type": "code",
   "execution_count": 11,
   "metadata": {},
   "outputs": [
    {
     "data": {
      "text/html": [
       "<div>\n",
       "<style scoped>\n",
       "    .dataframe tbody tr th:only-of-type {\n",
       "        vertical-align: middle;\n",
       "    }\n",
       "\n",
       "    .dataframe tbody tr th {\n",
       "        vertical-align: top;\n",
       "    }\n",
       "\n",
       "    .dataframe thead th {\n",
       "        text-align: right;\n",
       "    }\n",
       "</style>\n",
       "<table border=\"1\" class=\"dataframe\">\n",
       "  <thead>\n",
       "    <tr style=\"text-align: right;\">\n",
       "      <th></th>\n",
       "      <th>horsepower</th>\n",
       "      <th>horsepower_2</th>\n",
       "    </tr>\n",
       "  </thead>\n",
       "  <tbody>\n",
       "    <tr>\n",
       "      <th>222</th>\n",
       "      <td>130.00</td>\n",
       "      <td>16,900.00</td>\n",
       "    </tr>\n",
       "    <tr>\n",
       "      <th>368</th>\n",
       "      <td>92.00</td>\n",
       "      <td>8,464.00</td>\n",
       "    </tr>\n",
       "    <tr>\n",
       "      <th>129</th>\n",
       "      <td>65.00</td>\n",
       "      <td>4,225.00</td>\n",
       "    </tr>\n",
       "    <tr>\n",
       "      <th>38</th>\n",
       "      <td>175.00</td>\n",
       "      <td>30,625.00</td>\n",
       "    </tr>\n",
       "    <tr>\n",
       "      <th>11</th>\n",
       "      <td>160.00</td>\n",
       "      <td>25,600.00</td>\n",
       "    </tr>\n",
       "    <tr>\n",
       "      <th>...</th>\n",
       "      <td>...</td>\n",
       "      <td>...</td>\n",
       "    </tr>\n",
       "    <tr>\n",
       "      <th>71</th>\n",
       "      <td>150.00</td>\n",
       "      <td>22,500.00</td>\n",
       "    </tr>\n",
       "    <tr>\n",
       "      <th>106</th>\n",
       "      <td>100.00</td>\n",
       "      <td>10,000.00</td>\n",
       "    </tr>\n",
       "    <tr>\n",
       "      <th>270</th>\n",
       "      <td>85.00</td>\n",
       "      <td>7,225.00</td>\n",
       "    </tr>\n",
       "    <tr>\n",
       "      <th>348</th>\n",
       "      <td>65.00</td>\n",
       "      <td>4,225.00</td>\n",
       "    </tr>\n",
       "    <tr>\n",
       "      <th>102</th>\n",
       "      <td>150.00</td>\n",
       "      <td>22,500.00</td>\n",
       "    </tr>\n",
       "  </tbody>\n",
       "</table>\n",
       "<p>196 rows × 2 columns</p>\n",
       "</div>"
      ],
      "text/plain": [
       "              horsepower         horsepower_2\n",
       "222               130.00            16,900.00\n",
       "368                92.00             8,464.00\n",
       "129                65.00             4,225.00\n",
       "38                175.00            30,625.00\n",
       "11                160.00            25,600.00\n",
       "..                   ...                  ...\n",
       "71                150.00            22,500.00\n",
       "106               100.00            10,000.00\n",
       "270                85.00             7,225.00\n",
       "348                65.00             4,225.00\n",
       "102               150.00            22,500.00\n",
       "\n",
       "[196 rows x 2 columns]"
      ]
     },
     "execution_count": 11,
     "metadata": {},
     "output_type": "execute_result"
    }
   ],
   "source": [
    "X_train.loc[:,['horsepower','horsepower_2']]"
   ]
  },
  {
   "cell_type": "code",
   "execution_count": 14,
   "metadata": {},
   "outputs": [
    {
     "name": "stdout",
     "output_type": "stream",
     "text": [
      "lm1 MSE:  25.5738781896844\n",
      "lm2 MSE:  22.218020050032862\n",
      "lm3 MSE:  22.66767543553449\n"
     ]
    }
   ],
   "source": [
    "#polynomial regression and MSE\n",
    "\n",
    "from sklearn.linear_model import LinearRegression\n",
    "from sklearn.metrics import mean_squared_error\n",
    "\n",
    "#ols model with intercept\n",
    "lm1=LinearRegression(fit_intercept=True)\n",
    "lm2=LinearRegression(fit_intercept=True)\n",
    "lm3=LinearRegression(fit_intercept=True)\n",
    "\n",
    "#lm1_fit=lm1.fit(X_train.loc[:,['horsepower']],y_train)\n",
    "lm1_fit=lm1.fit(X_train.loc[:,'horsepower'].values.reshape(-1,1), y_train)\n",
    "lm2_fit=lm2.fit(X_train.loc[:,['horsepower','horsepower_2']],y_train)\n",
    "lm3_fit=lm3.fit(X_train.loc[:,['horsepower','horsepower_2','horsepower_3']],y_train)\n",
    "\n",
    "lm1_predict=lm1_fit.predict(X_test.loc[:,'horsepower'].values.reshape(-1,1))\n",
    "lm2_predict=lm2_fit.predict(X_test.loc[:,['horsepower','horsepower_2']])\n",
    "lm3_predict=lm3_fit.predict(X_test.loc[:,['horsepower','horsepower_2','horsepower_3']])\n",
    "\n",
    "print('lm1 MSE: ', mean_squared_error(y_test, lm1_predict))\n",
    "print('lm2 MSE: ', mean_squared_error(y_test, lm2_predict))\n",
    "print('lm3 MSE: ', mean_squared_error(y_test, lm3_predict))\n"
   ]
  },
  {
   "cell_type": "markdown",
   "metadata": {},
   "source": [
    "## 5.3.2 Leave-One-Out Cross-Validation"
   ]
  },
  {
   "cell_type": "code",
   "execution_count": 17,
   "metadata": {},
   "outputs": [
    {
     "name": "stdout",
     "output_type": "stream",
     "text": [
      "392\n",
      "horsepower      392\n",
      "horsepower_2    392\n",
      "horsepower_3    392\n",
      "horsepower_4    392\n",
      "horsepower_5    392\n",
      "dtype: int64\n"
     ]
    }
   ],
   "source": [
    "from sklearn.model_selection import LeaveOneOut\n",
    "\n",
    "X,y=auto.loc[:,['horsepower','horsepower_2','horsepower_3','horsepower_4','horsepower_5']], auto.mpg \n",
    "\n",
    "loocv=LeaveOneOut()\n",
    "print(loocv.get_n_splits(X)) #즉, number of splits를 의미\n",
    "print(X.count(axis=0))"
   ]
  },
  {
   "cell_type": "code",
   "execution_count": 21,
   "metadata": {},
   "outputs": [
    {
     "data": {
      "text/plain": [
       "24.231513517929226"
      ]
     },
     "execution_count": 21,
     "metadata": {},
     "output_type": "execute_result"
    }
   ],
   "source": [
    "loocv_mse=[]\n",
    "lm=LinearRegression(fit_intercept=True)\n",
    "\n",
    "for train_index, test_index in loocv.split(X): #row index로 split해줌\n",
    "    X_train, X_test = X.iloc[train_index], X.iloc[test_index] #index기준으로 해당 row를 선택\n",
    "    y_train, y_test = y.iloc[train_index], y.iloc[test_index]\n",
    "    \n",
    "    lm1_fit=lm.fit(X_train.loc[:,[\"horsepower\"]],y_train)\n",
    "    lm1_predict=lm1_fit.predict(X_test.loc[:,[\"horsepower\"]])\n",
    "    \n",
    "    loocv_mse.append(mean_squared_error(y_test, lm1_predict))\n",
    "\n",
    "np.array(loocv_mse).mean()\n",
    "                   "
   ]
  },
  {
   "cell_type": "code",
   "execution_count": 24,
   "metadata": {},
   "outputs": [
    {
     "data": {
      "text/plain": [
       "24.23151351792923"
      ]
     },
     "execution_count": 24,
     "metadata": {},
     "output_type": "execute_result"
    }
   ],
   "source": [
    "#using sklearn cross validation score\n",
    "from sklearn.model_selection import cross_val_score\n",
    "lm=LinearRegression(fit_intercept=True)\n",
    "\n",
    "cval=cross_val_score(lm, auto.loc[:,[\"horsepower\"]],\n",
    "                            auto.mpg,\n",
    "                            cv=len(auto), #k=n k-Fold -> LOOCV\n",
    "                            n_jobs=-1,\n",
    "                            scoring='neg_mean_squared_error'\n",
    "                           )\n",
    "-cval.mean()\n",
    "\n",
    "#n_job: # of processors to use, -1 means use all\n",
    "#scoring: A str (see model evaluation documentation) or a scorer callable object / function with signature scorer(estimator, X, y) which should return only a single value.\n",
    "#https://scikit-learn.org/stable/modules/generated/sklearn.model_selection.cross_val_score.html"
   ]
  },
  {
   "cell_type": "code",
   "execution_count": 26,
   "metadata": {
    "scrolled": true
   },
   "outputs": [
    {
     "data": {
      "text/plain": [
       "{'lm1 MSE': 24.231513517929226,\n",
       " 'lm2 MSE': 19.248213124489677,\n",
       " 'lm3 MSE': 19.334984064029538,\n",
       " 'lm4 MSE': 19.424430310310466,\n",
       " 'lm5 MSE': 19.033212804000605}"
      ]
     },
     "execution_count": 26,
     "metadata": {},
     "output_type": "execute_result"
    }
   ],
   "source": [
    "# Loop for 5 degree polinomial linear regressions with LOOCV\n",
    "\n",
    "loocv_poly={}\n",
    "\n",
    "for i in range(1,6):\n",
    "    loocv_mse=[]\n",
    "    for train_index, test_index in loocv.split(X):\n",
    "        X_train, X_test = X.iloc[train_index], X.iloc[test_index]\n",
    "        y_train, y_test = y.iloc[train_index], y.iloc[test_index]\n",
    "        \n",
    "        if i==1:\n",
    "            X_TRAIN=X_train.iloc[:,0:1].values.reshape(-1,1)\n",
    "            X_TEST=X_test.iloc[:,0:1].values.reshape(-1,1)\n",
    "        \n",
    "        else:\n",
    "            X_TRAIN=X_train.iloc[:,0:i]\n",
    "            X_TEST=X_test.iloc[:,0:i]\n",
    "        \n",
    "        loocv_mse.append(mean_squared_error(y_test, LinearRegression(fit_intercept=True).fit(X_TRAIN,y_train).predict(X_TEST)))\n",
    "        \n",
    "        loocv_poly['lm' + str(i) + \" MSE\"] = np.array(loocv_mse).mean()\n",
    "\n",
    "loocv_poly"
   ]
  },
  {
   "cell_type": "markdown",
   "metadata": {},
   "source": [
    "## 5.3.3 k-Fold Cross Validation"
   ]
  },
  {
   "cell_type": "code",
   "execution_count": 27,
   "metadata": {},
   "outputs": [],
   "source": [
    "from sklearn.model_selection import KFold\n",
    "\n",
    "X,y=auto.loc[:,['horsepower','horsepower_2','horsepower_3','horsepower_4','horsepower_5']], auto.mpg \n",
    "\n",
    "kf=KFold(n_splits=10, shuffle=True, random_state=42)"
   ]
  },
  {
   "cell_type": "code",
   "execution_count": 65,
   "metadata": {},
   "outputs": [
    {
     "ename": "ValueError",
     "evalue": "operands could not be broadcast together with shapes (0,) (10,) ",
     "output_type": "error",
     "traceback": [
      "\u001b[1;31m---------------------------------------------------------------------------\u001b[0m",
      "\u001b[1;31mValueError\u001b[0m                                Traceback (most recent call last)",
      "\u001b[1;32m<ipython-input-65-e817d45dd896>\u001b[0m in \u001b[0;36m<module>\u001b[1;34m\u001b[0m\n\u001b[0;32m     10\u001b[0m                           \u001b[0mcv\u001b[0m\u001b[1;33m=\u001b[0m\u001b[1;36m10\u001b[0m\u001b[1;33m,\u001b[0m\u001b[1;33m\u001b[0m\u001b[1;33m\u001b[0m\u001b[0m\n\u001b[0;32m     11\u001b[0m                           \u001b[0mn_jobs\u001b[0m\u001b[1;33m=\u001b[0m\u001b[1;33m-\u001b[0m\u001b[1;36m1\u001b[0m\u001b[1;33m,\u001b[0m\u001b[1;33m\u001b[0m\u001b[1;33m\u001b[0m\u001b[0m\n\u001b[1;32m---> 12\u001b[1;33m                           scoring='neg_mean_squared_error')\n\u001b[0m\u001b[0;32m     13\u001b[0m \u001b[1;33m-\u001b[0m\u001b[0mcval\u001b[0m\u001b[1;33m.\u001b[0m\u001b[0mmean\u001b[0m\u001b[1;33m(\u001b[0m\u001b[1;33m)\u001b[0m\u001b[1;33m\u001b[0m\u001b[1;33m\u001b[0m\u001b[0m\n",
      "\u001b[1;31mValueError\u001b[0m: operands could not be broadcast together with shapes (0,) (10,) "
     ]
    }
   ],
   "source": [
    "#시도실패..\n",
    "# Loop for 5 degree polinomial linear regressions with k-Fold CV\n",
    "\n",
    "list1=[['horsepower'],['horsepower','horsepower_2'],['horsepower','horsepower_2','horsepower_3'],['horsepower','horsepower_2',\"horsepower_3\",\"horsepower_4\"],['horsepower','horsepower_2',\"horsepower_3\",\"horsepower_4\",\"horsepower_5\"]]\n",
    "cval=[]\n",
    "\n",
    "for i in list1:\n",
    "    cval+=cross_val_score(lm, auto.loc[:,i],\n",
    "                          auto.mpg,\n",
    "                          cv=10, \n",
    "                          n_jobs=-1,\n",
    "                          scoring='neg_mean_squared_error')\n",
    "-cval.mean()"
   ]
  },
  {
   "cell_type": "code",
   "execution_count": 66,
   "metadata": {},
   "outputs": [
    {
     "data": {
      "text/plain": [
       "{'lm1_MSE': 24.199808197692477,\n",
       " 'lm2_MSE': 19.22863661426802,\n",
       " 'lm3_MSE': 19.26626534663196,\n",
       " 'lm4_MSE': 19.35109227305059,\n",
       " 'lm5_MSE': 19.02323300932039}"
      ]
     },
     "execution_count": 66,
     "metadata": {},
     "output_type": "execute_result"
    }
   ],
   "source": [
    "# Loop for 5 degree polinomial linear regressions with k-Fold CV\n",
    "\n",
    "kf_poly = {}\n",
    "\n",
    "for i in range(1, 6):\n",
    "    \n",
    "    kf_mse = []\n",
    "    \n",
    "    for train_index, test_index in kf.split(X):\n",
    "        X_train, X_test = X.iloc[train_index], X.iloc[test_index]\n",
    "        y_train, y_test = y.iloc[train_index], y.iloc[test_index]\n",
    "        \n",
    "        if i == 1:\n",
    "            X_TRAIN = X_train.iloc[:,0:1].values.reshape(-1, 1)\n",
    "            X_TEST = X_test.iloc[:,0:1].values.reshape(-1, 1)\n",
    "        else:\n",
    "            X_TRAIN = X_train.iloc[:,0:i]\n",
    "            X_TEST = X_test.iloc[:,0:i]\n",
    "        \n",
    "        kf_mse.append(\n",
    "            mean_squared_error(\n",
    "                y_test, \n",
    "                LinearRegression(fit_intercept=True)\n",
    "                .fit(\n",
    "                    X_TRAIN, \n",
    "                    y_train\n",
    "                )\n",
    "                .predict(\n",
    "                    X_TEST\n",
    "                )\n",
    "            )\n",
    "        )\n",
    "        \n",
    "        kf_poly['lm' + str(i) + '_MSE'] = np.array(kf_mse).mean()\n",
    "\n",
    "kf_poly"
   ]
  },
  {
   "cell_type": "markdown",
   "metadata": {},
   "source": [
    "## 5.3.4 The Bootstrap"
   ]
  },
  {
   "cell_type": "markdown",
   "metadata": {},
   "source": [
    "### Estimating the Accuracy of a Statistic of Interest"
   ]
  },
  {
   "cell_type": "code",
   "execution_count": 69,
   "metadata": {},
   "outputs": [],
   "source": [
    "#data 불러오기\n",
    "portfolio = pd.read_csv('C:/Users/Coby/Desktop/ESC_ML_STUDY/datasets/Portfolio.csv', index_col=0)"
   ]
  },
  {
   "cell_type": "code",
   "execution_count": 70,
   "metadata": {},
   "outputs": [],
   "source": [
    "#책에 있는 alpha 정의하기\n",
    "\n",
    "def alpha_fn(data, start_index, end_index):\n",
    "    X = data['X'][start_index:end_index]\n",
    "    Y = data['Y'][start_index:end_index]\n",
    "    return ((np.var(Y) - np.cov(X, Y)[0][1]) / (np.var(X) + np.var(Y) - 2 * np.cov(X, Y)[0][1]))"
   ]
  },
  {
   "cell_type": "code",
   "execution_count": 71,
   "metadata": {},
   "outputs": [
    {
     "data": {
      "text/plain": [
       "0.5766511516104118"
      ]
     },
     "execution_count": 71,
     "metadata": {},
     "output_type": "execute_result"
    }
   ],
   "source": [
    "#estimate alpha that minimize variance\n",
    "alpha_fn(portfolio, 0, 100)"
   ]
  },
  {
   "cell_type": "code",
   "execution_count": 72,
   "metadata": {},
   "outputs": [
    {
     "data": {
      "text/plain": [
       "0.7519845482235354"
      ]
     },
     "execution_count": 72,
     "metadata": {},
     "output_type": "execute_result"
    }
   ],
   "source": [
    "from sklearn.utils import resample\n",
    "\n",
    "#random sampling of 100 obs #복원추출\n",
    "portfolio_bs = resample(portfolio, replace=True, n_samples=100)\n",
    "\n",
    "alpha_fn(portfolio_bs, 0, 100)"
   ]
  },
  {
   "cell_type": "code",
   "execution_count": 73,
   "metadata": {},
   "outputs": [
    {
     "name": "stdout",
     "output_type": "stream",
     "text": [
      "Bootstrapped alpha: 0.5779782261753355\n",
      "SE: 0.0920736435063152\n"
     ]
    }
   ],
   "source": [
    "# Bootstrap is removed from sklearn\n",
    "\n",
    "bs_alpha = []\n",
    "\n",
    "#1000개의 bootstrap estimate for alpha를 list로 생성\n",
    "for i in range(0, 1000):\n",
    "    bs_alpha.append(\n",
    "        alpha_fn(resample(portfolio, replace=True, n_samples=100), 0, 100)\n",
    "    )\n",
    "\n",
    "bs_alpha = np.array(bs_alpha)\n",
    "\n",
    "print('Bootstrapped alpha:', bs_alpha.mean())\n",
    "print('SE:',  bs_alpha.std())"
   ]
  },
  {
   "cell_type": "markdown",
   "metadata": {},
   "source": [
    "### Estimating the Accuracy of a Linear Regression Model"
   ]
  },
  {
   "cell_type": "code",
   "execution_count": 74,
   "metadata": {},
   "outputs": [
    {
     "data": {
      "text/plain": [
       "(39.93586102117047, array([-0.15784473]))"
      ]
     },
     "execution_count": 74,
     "metadata": {},
     "output_type": "execute_result"
    }
   ],
   "source": [
    "#index한 data에 대해 회귀분석 돌릴 수 있게 함수 정의\n",
    "def boot_fn(data, start_index, end_index):\n",
    "    m = LinearRegression(fit_intercept=True).fit(\n",
    "        data['horsepower'][start_index:end_index].values.reshape(-1, 1),\n",
    "        data['mpg'][start_index:end_index]\n",
    "    )\n",
    "    \n",
    "    return m.intercept_, m.coef_\n",
    "\n",
    "boot_fn(auto, 0, 392) #전체 데이터에 회귀분석"
   ]
  },
  {
   "cell_type": "code",
   "execution_count": 75,
   "metadata": {},
   "outputs": [
    {
     "data": {
      "text/plain": [
       "(39.667025398426084, array([-0.15199976]))"
      ]
     },
     "execution_count": 75,
     "metadata": {},
     "output_type": "execute_result"
    }
   ],
   "source": [
    "boot_fn(resample(auto, replace=True, n_samples=392), 0, 392) \n",
    "#bootstrap estimates of one random sampling"
   ]
  },
  {
   "cell_type": "code",
   "execution_count": 76,
   "metadata": {},
   "outputs": [
    {
     "name": "stdout",
     "output_type": "stream",
     "text": [
      "t1 bs estimate & se: 39.984762851653635 0.888615006564923\n",
      "t2 bs estimate & se: -0.15810710125885266 0.007429394606738342\n"
     ]
    }
   ],
   "source": [
    "#1000 bootstrap estimates (intercept, coefficient)\n",
    "\n",
    "bs_boot = {'t1': [], 't2': []}\n",
    "\n",
    "for i in range(0, 1000):\n",
    "    bs_boot['t1'].append(\n",
    "        boot_fn(resample(auto, replace=True, n_samples=392), 0, 392)[0]\n",
    "    )\n",
    "    bs_boot['t2'].append(\n",
    "        boot_fn(resample(auto, replace=True, n_samples=392), 0, 392)[1][0]\n",
    "    )\n",
    "\n",
    "t1_es = np.array(bs_boot['t1']).mean()\n",
    "t1_se = np.array(bs_boot['t1']).std()\n",
    "t2_es = np.array(bs_boot['t2']).mean()\n",
    "t2_se = np.array(bs_boot['t2']).std()\n",
    "\n",
    "print('t1 bs estimate & se:', t1_es, t1_se)\n",
    "print('t2 bs estimate & se:', t2_es, t2_se)"
   ]
  },
  {
   "cell_type": "code",
   "execution_count": 77,
   "metadata": {},
   "outputs": [
    {
     "data": {
      "text/html": [
       "<table class=\"simpletable\">\n",
       "<tr>\n",
       "       <td></td>         <th>coef</th>     <th>std err</th>      <th>t</th>      <th>P>|t|</th>  <th>[0.025</th>    <th>0.975]</th>  \n",
       "</tr>\n",
       "<tr>\n",
       "  <th>Intercept</th>  <td>   39.9359</td> <td>    0.717</td> <td>   55.660</td> <td> 0.000</td> <td>   38.525</td> <td>   41.347</td>\n",
       "</tr>\n",
       "<tr>\n",
       "  <th>horsepower</th> <td>   -0.1578</td> <td>    0.006</td> <td>  -24.489</td> <td> 0.000</td> <td>   -0.171</td> <td>   -0.145</td>\n",
       "</tr>\n",
       "</table>"
      ],
      "text/plain": [
       "<class 'statsmodels.iolib.table.SimpleTable'>"
      ]
     },
     "execution_count": 77,
     "metadata": {},
     "output_type": "execute_result"
    }
   ],
   "source": [
    "#compare\n",
    "import statsmodels.formula.api as sm\n",
    "\n",
    "ols = sm.ols('mpg ~ horsepower', data=auto).fit()\n",
    "ols.summary().tables[1]"
   ]
  },
  {
   "cell_type": "code",
   "execution_count": 78,
   "metadata": {},
   "outputs": [],
   "source": [
    "#bootstrap of quadratic model\n",
    "\n",
    "def boot_fn2(data, start_index, end_index):\n",
    "    m = LinearRegression(fit_intercept=True).fit(\n",
    "        data[['horsepower', 'horsepower_2']][start_index:end_index],\n",
    "        data['mpg'][start_index:end_index]\n",
    "    )\n",
    "    \n",
    "    return m.intercept_, m.coef_"
   ]
  },
  {
   "cell_type": "code",
   "execution_count": 79,
   "metadata": {},
   "outputs": [
    {
     "name": "stdout",
     "output_type": "stream",
     "text": [
      "t1 bs estimate & se: 56.87278271643702 2.175273644253121\n",
      "t2 bs estimate & se: -0.4663170343636877 0.03196823510301101\n",
      "t3 bs estimate & se: 0.001233141833295249 0.00011859045145377825\n"
     ]
    }
   ],
   "source": [
    "bs_boot2 = {'t1': [], 't2': [], 't3': []}\n",
    "\n",
    "for i in range(0, 1000):\n",
    "    bs_boot2['t1'].append(\n",
    "        boot_fn2(resample(auto, replace=True, n_samples=392), 0, 392)[0]\n",
    "    )\n",
    "    bs_boot2['t2'].append(\n",
    "        boot_fn2(resample(auto, replace=True, n_samples=392), 0, 392)[1][0]\n",
    "    )\n",
    "    bs_boot2['t3'].append(\n",
    "        boot_fn2(resample(auto, replace=True, n_samples=392), 0, 392)[1][1]\n",
    "    )\n",
    "\n",
    "\n",
    "t1_es = np.array(bs_boot2['t1']).mean()\n",
    "t1_se = np.array(bs_boot2['t1']).std()\n",
    "t2_es = np.array(bs_boot2['t2']).mean()\n",
    "t2_se = np.array(bs_boot2['t2']).std()\n",
    "t3_es = np.array(bs_boot2['t3']).mean()\n",
    "t3_se = np.array(bs_boot2['t3']).std()\n",
    "\n",
    "print('t1 bs estimate & se:', t1_es, t1_se)\n",
    "print('t2 bs estimate & se:', t2_es, t2_se)\n",
    "print('t3 bs estimate & se:', t3_es, t3_se)"
   ]
  },
  {
   "cell_type": "code",
   "execution_count": 80,
   "metadata": {},
   "outputs": [
    {
     "data": {
      "text/html": [
       "<table class=\"simpletable\">\n",
       "<tr>\n",
       "        <td></td>          <th>coef</th>     <th>std err</th>      <th>t</th>      <th>P>|t|</th>  <th>[0.025</th>    <th>0.975]</th>  \n",
       "</tr>\n",
       "<tr>\n",
       "  <th>Intercept</th>    <td>   56.9001</td> <td>    1.800</td> <td>   31.604</td> <td> 0.000</td> <td>   53.360</td> <td>   60.440</td>\n",
       "</tr>\n",
       "<tr>\n",
       "  <th>horsepower</th>   <td>   -0.4662</td> <td>    0.031</td> <td>  -14.978</td> <td> 0.000</td> <td>   -0.527</td> <td>   -0.405</td>\n",
       "</tr>\n",
       "<tr>\n",
       "  <th>horsepower_2</th> <td>    0.0012</td> <td>    0.000</td> <td>   10.080</td> <td> 0.000</td> <td>    0.001</td> <td>    0.001</td>\n",
       "</tr>\n",
       "</table>"
      ],
      "text/plain": [
       "<class 'statsmodels.iolib.table.SimpleTable'>"
      ]
     },
     "execution_count": 80,
     "metadata": {},
     "output_type": "execute_result"
    }
   ],
   "source": [
    "#compare\n",
    "import statsmodels.formula.api as sm\n",
    "\n",
    "ols2 = sm.ols('mpg ~ horsepower + horsepower_2', data=auto).fit()\n",
    "ols2.summary().tables[1]"
   ]
  }
 ],
 "metadata": {
  "kernelspec": {
   "display_name": "Python 3",
   "language": "python",
   "name": "python3"
  },
  "language_info": {
   "codemirror_mode": {
    "name": "ipython",
    "version": 3
   },
   "file_extension": ".py",
   "mimetype": "text/x-python",
   "name": "python",
   "nbconvert_exporter": "python",
   "pygments_lexer": "ipython3",
   "version": "3.7.6"
  }
 },
 "nbformat": 4,
 "nbformat_minor": 4
}
