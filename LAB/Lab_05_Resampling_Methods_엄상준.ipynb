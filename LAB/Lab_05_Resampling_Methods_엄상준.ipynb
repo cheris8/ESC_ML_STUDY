{
 "cells": [
  {
   "cell_type": "markdown",
   "metadata": {},
   "source": [
    "# 1. The Validation Set Approach"
   ]
  },
  {
   "cell_type": "code",
   "execution_count": 1,
   "metadata": {},
   "outputs": [],
   "source": [
    "import numpy as np\n",
    "import pandas as pd\n",
    "\n",
    "pd.set_option('precision',2)\n",
    "pd.set_option('display.max_rows', 12)\n",
    "pd.set_option('display.float_format', '{:20.2f}'.format) #e같은 애들 안 나오게 해줌"
   ]
  },
  {
   "cell_type": "code",
   "execution_count": 2,
   "metadata": {},
   "outputs": [],
   "source": [
    "#data 불러오기\n",
    "\n",
    "auto=pd.read_csv('../datasets/Auto.csv', na_values=['?'])\n",
    "#? 표시인 애들이 na값이다.\n",
    "\n",
    "auto.dropna(axis=0, inplace=True)\n",
    "#na 처리\n",
    "\n",
    "auto.cylinders = auto.cylinders.astype('category')\n",
    "auto.name = auto.name.astype('category')\n",
    "#카테고리 변수 카테고리화\n",
    "\n",
    "auto.reset_index(inplace=True)\n",
    "#inplace 하면 원본 객체가 변경됨.\n",
    "\n",
    "#polynomial 변수 생성\n",
    "auto['horsepower_2']=np.power(auto.horsepower, 2)\n",
    "auto['horsepower_3']=np.power(auto.horsepower, 3)\n",
    "auto['horsepower_4']=np.power(auto.horsepower, 4)\n",
    "auto['horsepower_5']=np.power(auto.horsepower, 5)\n",
    "\n",
    "#sklearn을 이용한 polynomial feature 설정\n",
    "from sklearn.preprocessing import PolynomialFeatures\n",
    "pol = PolynomialFeatures(degree = 5, interaction_only = False, include_bias=False)\n",
    "polf = pol.fit_transform(auto.loc[:,'horsepower'].values.reshape(-1,1)) \n",
    "#이렇게 하면 polf는 1열이 horsepower1차 2열이 2차 ... 5열이 5차인 매트릭스 형태의 array로 만들어짐.\n",
    "#-1이 의미하는 거는 만약 열이 1이라고 했을 때 행은 자동으로 추정되도록 하는 것.\n",
    "#그냥 auto.loc[]으로 하면 얘는 index를 포함하고 있기 때문에 error가 뜬다. 따라서 values만 따로 뽑아주기 위해서 values.reshape 시행\n"
   ]
  },
  {
   "cell_type": "code",
   "execution_count": 3,
   "metadata": {},
   "outputs": [],
   "source": [
    "#Train Set과 Validation Set으로 나누기\n",
    "#Test Set으로 되어있지만 사실상 Validation Set\n",
    "\n",
    "from sklearn.model_selection import train_test_split\n",
    "\n",
    "X, y = auto.loc[:, ['horsepower', 'horsepower_2', 'horsepower_3']], auto.mpg\n",
    "#horsepower 1차 2차 3차 항을 X변수, mpg를 종속변수로 둠\n",
    "\n",
    "X_train, X_test, y_train, y_test = train_test_split(X, y, test_size = 0.5, random_state=42)"
   ]
  },
  {
   "cell_type": "code",
   "execution_count": 4,
   "metadata": {},
   "outputs": [
    {
     "name": "stdout",
     "output_type": "stream",
     "text": [
      "lm1 MSE: 25.573878189684407\n",
      "lm2 MSE: 22.218020050032855\n",
      "lm3 MSE: 22.66767543553442\n"
     ]
    }
   ],
   "source": [
    "#Linear Model 만들어서 적용\n",
    "\n",
    "from sklearn.linear_model import LinearRegression as LR\n",
    "from sklearn.metrics import mean_squared_error as mse\n",
    "\n",
    "#ols model with intercept\n",
    "lm1 = LR(fit_intercept = True)\n",
    "lm2 = LR(fit_intercept = True)\n",
    "lm3 = LR(fit_intercept = True)\n",
    "\n",
    "lm1_fit = lm1.fit(X_train.loc[:, 'horsepower'].values.reshape(-1,1), y_train)\n",
    "lm2_fit = lm2.fit(X_train.loc[:,['horsepower', 'horsepower_2']], y_train)\n",
    "lm3_fit = lm3.fit(X_train.loc[:,['horsepower', 'horsepower_2','horsepower_3']], y_train)\n",
    "#1차일때만 reshape해주면 됨. 2차 이상인 경우 열이 2개 이상이여서 자동으로 dataframe으로 바껴서 reshape 필요 없는듯.\n",
    "\n",
    "lm1_predict = lm1_fit.predict(X_test.loc[:, 'horsepower'].values.reshape(-1,1))\n",
    "lm2_predict = lm2_fit.predict(X_test.loc[:, ['horsepower','horsepower_2']])\n",
    "lm3_predict = lm3_fit.predict(X_test.loc[:, ['horsepower','horsepower_2','horsepower_3']])\n",
    "\n",
    "print('lm1 MSE:', mse(y_test, lm1_predict))\n",
    "print('lm2 MSE:', mse(y_test, lm2_predict))\n",
    "print('lm3 MSE:', mse(y_test, lm3_predict))\n",
    "\n",
    "#이렇게 나온 값들은 진짜 test mse의 추정값들. \n",
    "#2차인 애의 mse가 제일 작으므로 2차 polynomial로 fitting"
   ]
  },
  {
   "cell_type": "markdown",
   "metadata": {},
   "source": [
    "# 2. Leave-One-Out Cross Validation"
   ]
  },
  {
   "cell_type": "code",
   "execution_count": 5,
   "metadata": {},
   "outputs": [
    {
     "data": {
      "text/plain": [
       "392"
      ]
     },
     "execution_count": 5,
     "metadata": {},
     "output_type": "execute_result"
    }
   ],
   "source": [
    "from sklearn.model_selection import LeaveOneOut as LOOCV\n",
    "\n",
    "X, y = auto.loc[:,['horsepower', 'horsepower_2', 'horsepower_3','horsepower_4','horsepower_5']], auto.mpg\n",
    "\n",
    "loocv = LOOCV()\n",
    "loocv.get_n_splits(X)\n",
    "\n",
    "#몇 개로 나눠지는 지 알려줌"
   ]
  },
  {
   "cell_type": "code",
   "execution_count": 7,
   "metadata": {},
   "outputs": [
    {
     "data": {
      "text/plain": [
       "24.231513517929226"
      ]
     },
     "execution_count": 7,
     "metadata": {},
     "output_type": "execute_result"
    }
   ],
   "source": [
    "#1차 poly만 볼때\n",
    "\n",
    "loocv_mse=[]\n",
    "lm = LR(fit_intercept=True)\n",
    "\n",
    "for train_index, test_index in loocv.split(X):\n",
    "    X_train, X_test = X.iloc[train_index], X.iloc[test_index]\n",
    "    y_train, y_test = y.iloc[train_index], y.iloc[test_index]\n",
    "    \n",
    "    lm1_fit = lm.fit(X_train.loc[:, 'horsepower'].values.reshape(-1,1), y_train)\n",
    "    lm1_predict = lm1_fit.predict(X_test.loc[:, 'horsepower'].values.reshape(-1,1))\n",
    "    \n",
    "    loocv_mse.append(mse(y_test, lm1_predict))\n",
    "    \n",
    "np.array(loocv_mse).mean()"
   ]
  },
  {
   "cell_type": "code",
   "execution_count": 12,
   "metadata": {},
   "outputs": [
    {
     "data": {
      "text/plain": [
       "24.23151351792923"
      ]
     },
     "execution_count": 12,
     "metadata": {},
     "output_type": "execute_result"
    }
   ],
   "source": [
    "#sklearn을 이용하면 CV를 더 쉽게 할 수 있다.\n",
    "\n",
    "from sklearn.model_selection import cross_val_score as cvs\n",
    "\n",
    "lm = LR(fit_intercept=True)\n",
    "\n",
    "cval = cvs(lm,\n",
    "           auto.loc[:, 'horsepower'].values.reshape(-1,1),\n",
    "           auto.mpg,\n",
    "           cv = len(auto), #k=n인 k-fold cv가 곧 LOOCV이므로\n",
    "           n_jobs=-1,\n",
    "           scoring='neg_mean_squared_error')\n",
    "\n",
    "-cval.mean()\n",
    "#우리의 방법이 scoring이 neg_mean_squred_error였기 때문에 값을 정확히 알려면 -를 붙여주어야 함.\n"
   ]
  },
  {
   "cell_type": "code",
   "execution_count": 14,
   "metadata": {},
   "outputs": [],
   "source": [
    "# 이제 1차부터 5차까지 한번에 cv_mse를 구할 수 있는 loop를 만들어보자.\n",
    "\n",
    "loocv_poly={}\n",
    "\n",
    "for i in range(1,6):\n",
    "    \n",
    "    loocv_mse=[]\n",
    "    \n",
    "    for train_index, test_index in loocv.split(X):\n",
    "        X_train, X_test = X.iloc[train_index], X.iloc[test_index]\n",
    "        y_train, y_test = y.iloc[train_index], y.iloc[test_index]\n",
    "        \n",
    "        if i == 1:\n",
    "            X_train = X_train.iloc[:, 0:1].values.reshape(-1,1)\n",
    "            X_test = X_test.iloc[:, 0:1].values.reshape(-1,1)\n",
    "        \n",
    "        else:\n",
    "            X_train = X_train.iloc[:, 0:i]\n",
    "            X_test = X_test.iloc[:, 0:i]\n",
    "        \n",
    "        MSE = mse(y_test, LR(fit_intercept=True).fit(X_train, y_train).predict(X_test))\n",
    "    \n",
    "        loocv_mse.append(MSE)\n",
    "        \n",
    "        loocv_poly['lm'+str(i)+'_MSE']= np.array(loocv_mse).mean()"
   ]
  },
  {
   "cell_type": "code",
   "execution_count": 15,
   "metadata": {},
   "outputs": [
    {
     "data": {
      "text/plain": [
       "{'lm1_MSE': 24.231513517929226,\n",
       " 'lm2_MSE': 19.248213124489677,\n",
       " 'lm3_MSE': 19.334984064029175,\n",
       " 'lm4_MSE': 19.424430310525526,\n",
       " 'lm5_MSE': 19.033212804000605}"
      ]
     },
     "execution_count": 15,
     "metadata": {},
     "output_type": "execute_result"
    }
   ],
   "source": [
    "loocv_poly"
   ]
  },
  {
   "cell_type": "markdown",
   "metadata": {},
   "source": [
    "# 3. K-Fold Cross-Validation"
   ]
  },
  {
   "cell_type": "code",
   "execution_count": 16,
   "metadata": {},
   "outputs": [],
   "source": [
    "from sklearn.model_selection import KFold\n",
    "\n",
    "X, y = auto.loc[:,['horsepower', 'horsepower_2', 'horsepower_3','horsepower_4','horsepower_5']], auto.mpg\n",
    "\n",
    "kf = KFold(n_splits=10, shuffle = True, random_state=42)\n",
    "#10개로 쪼개고 셔플할 것임"
   ]
  },
  {
   "cell_type": "code",
   "execution_count": 18,
   "metadata": {},
   "outputs": [
    {
     "data": {
      "text/plain": [
       "{'lm1_MSE': 24.199808197692477,\n",
       " 'lm2_MSE': 19.22863661426802,\n",
       " 'lm3_MSE': 19.266265346631833,\n",
       " 'lm4_MSE': 19.351092272961104,\n",
       " 'lm5_MSE': 19.02323300932039}"
      ]
     },
     "execution_count": 18,
     "metadata": {},
     "output_type": "execute_result"
    }
   ],
   "source": [
    "kf_poly = {}\n",
    "\n",
    "for i in range(1,6):\n",
    "    \n",
    "    kf_mse=[]\n",
    "    \n",
    "    for train_index, test_index in kf.split(X):\n",
    "        X_train, X_test = X.iloc[train_index], X.iloc[test_index]\n",
    "        y_train, y_test = y.iloc[train_index], y.iloc[test_index]\n",
    "        \n",
    "        if i == 1:\n",
    "            X_train = X_train.iloc[:,0:1].values.reshape(-1,1)\n",
    "            X_test = X_test.iloc[:,0:1].values.reshape(-1,1)\n",
    "        else:\n",
    "            X_train = X_train.iloc[:,0:i]\n",
    "            X_test = X_test.iloc[:,0:i]\n",
    "        \n",
    "        MSE = mse(y_test, LR(fit_intercept=True).fit(X_train, y_train).predict(X_test))\n",
    "        kf_mse.append(MSE)\n",
    "        \n",
    "        kf_poly['lm'+str(i)+'_MSE']=np.array(kf_mse).mean()\n",
    "\n",
    "kf_poly"
   ]
  },
  {
   "cell_type": "markdown",
   "metadata": {},
   "source": [
    "# 4. The Bootstrap"
   ]
  },
  {
   "cell_type": "code",
   "execution_count": 22,
   "metadata": {},
   "outputs": [
    {
     "data": {
      "text/html": [
       "<div>\n",
       "<style scoped>\n",
       "    .dataframe tbody tr th:only-of-type {\n",
       "        vertical-align: middle;\n",
       "    }\n",
       "\n",
       "    .dataframe tbody tr th {\n",
       "        vertical-align: top;\n",
       "    }\n",
       "\n",
       "    .dataframe thead th {\n",
       "        text-align: right;\n",
       "    }\n",
       "</style>\n",
       "<table border=\"1\" class=\"dataframe\">\n",
       "  <thead>\n",
       "    <tr style=\"text-align: right;\">\n",
       "      <th></th>\n",
       "      <th>Unnamed: 0</th>\n",
       "      <th>X</th>\n",
       "      <th>Y</th>\n",
       "    </tr>\n",
       "  </thead>\n",
       "  <tbody>\n",
       "    <tr>\n",
       "      <td>0</td>\n",
       "      <td>1</td>\n",
       "      <td>-0.90</td>\n",
       "      <td>-0.23</td>\n",
       "    </tr>\n",
       "    <tr>\n",
       "      <td>1</td>\n",
       "      <td>2</td>\n",
       "      <td>-1.56</td>\n",
       "      <td>-0.89</td>\n",
       "    </tr>\n",
       "    <tr>\n",
       "      <td>2</td>\n",
       "      <td>3</td>\n",
       "      <td>-0.42</td>\n",
       "      <td>0.27</td>\n",
       "    </tr>\n",
       "    <tr>\n",
       "      <td>3</td>\n",
       "      <td>4</td>\n",
       "      <td>1.04</td>\n",
       "      <td>-0.73</td>\n",
       "    </tr>\n",
       "    <tr>\n",
       "      <td>4</td>\n",
       "      <td>5</td>\n",
       "      <td>-0.32</td>\n",
       "      <td>0.84</td>\n",
       "    </tr>\n",
       "    <tr>\n",
       "      <td>...</td>\n",
       "      <td>...</td>\n",
       "      <td>...</td>\n",
       "      <td>...</td>\n",
       "    </tr>\n",
       "    <tr>\n",
       "      <td>95</td>\n",
       "      <td>96</td>\n",
       "      <td>0.48</td>\n",
       "      <td>1.45</td>\n",
       "    </tr>\n",
       "    <tr>\n",
       "      <td>96</td>\n",
       "      <td>97</td>\n",
       "      <td>-0.54</td>\n",
       "      <td>-0.40</td>\n",
       "    </tr>\n",
       "    <tr>\n",
       "      <td>97</td>\n",
       "      <td>98</td>\n",
       "      <td>-0.77</td>\n",
       "      <td>-0.96</td>\n",
       "    </tr>\n",
       "    <tr>\n",
       "      <td>98</td>\n",
       "      <td>99</td>\n",
       "      <td>0.40</td>\n",
       "      <td>1.40</td>\n",
       "    </tr>\n",
       "    <tr>\n",
       "      <td>99</td>\n",
       "      <td>100</td>\n",
       "      <td>-0.59</td>\n",
       "      <td>-0.50</td>\n",
       "    </tr>\n",
       "  </tbody>\n",
       "</table>\n",
       "<p>100 rows × 3 columns</p>\n",
       "</div>"
      ],
      "text/plain": [
       "    Unnamed: 0                    X                    Y\n",
       "0            1                -0.90                -0.23\n",
       "1            2                -1.56                -0.89\n",
       "2            3                -0.42                 0.27\n",
       "3            4                 1.04                -0.73\n",
       "4            5                -0.32                 0.84\n",
       "..         ...                  ...                  ...\n",
       "95          96                 0.48                 1.45\n",
       "96          97                -0.54                -0.40\n",
       "97          98                -0.77                -0.96\n",
       "98          99                 0.40                 1.40\n",
       "99         100                -0.59                -0.50\n",
       "\n",
       "[100 rows x 3 columns]"
      ]
     },
     "execution_count": 22,
     "metadata": {},
     "output_type": "execute_result"
    }
   ],
   "source": [
    "pd.read_csv('../datasets/Portfolio.csv')"
   ]
  },
  {
   "cell_type": "code",
   "execution_count": 20,
   "metadata": {},
   "outputs": [],
   "source": [
    "portfolio = pd.read_csv('../datasets/Portfolio.csv', index_col=0)\n",
    "#index column이 이미 있으므로 1번째 열이 index column 임을 알려준다."
   ]
  },
  {
   "cell_type": "code",
   "execution_count": 21,
   "metadata": {
    "scrolled": true
   },
   "outputs": [
    {
     "data": {
      "text/html": [
       "<div>\n",
       "<style scoped>\n",
       "    .dataframe tbody tr th:only-of-type {\n",
       "        vertical-align: middle;\n",
       "    }\n",
       "\n",
       "    .dataframe tbody tr th {\n",
       "        vertical-align: top;\n",
       "    }\n",
       "\n",
       "    .dataframe thead th {\n",
       "        text-align: right;\n",
       "    }\n",
       "</style>\n",
       "<table border=\"1\" class=\"dataframe\">\n",
       "  <thead>\n",
       "    <tr style=\"text-align: right;\">\n",
       "      <th></th>\n",
       "      <th>X</th>\n",
       "      <th>Y</th>\n",
       "    </tr>\n",
       "  </thead>\n",
       "  <tbody>\n",
       "    <tr>\n",
       "      <td>1</td>\n",
       "      <td>-0.90</td>\n",
       "      <td>-0.23</td>\n",
       "    </tr>\n",
       "    <tr>\n",
       "      <td>2</td>\n",
       "      <td>-1.56</td>\n",
       "      <td>-0.89</td>\n",
       "    </tr>\n",
       "    <tr>\n",
       "      <td>3</td>\n",
       "      <td>-0.42</td>\n",
       "      <td>0.27</td>\n",
       "    </tr>\n",
       "    <tr>\n",
       "      <td>4</td>\n",
       "      <td>1.04</td>\n",
       "      <td>-0.73</td>\n",
       "    </tr>\n",
       "    <tr>\n",
       "      <td>5</td>\n",
       "      <td>-0.32</td>\n",
       "      <td>0.84</td>\n",
       "    </tr>\n",
       "    <tr>\n",
       "      <td>...</td>\n",
       "      <td>...</td>\n",
       "      <td>...</td>\n",
       "    </tr>\n",
       "    <tr>\n",
       "      <td>96</td>\n",
       "      <td>0.48</td>\n",
       "      <td>1.45</td>\n",
       "    </tr>\n",
       "    <tr>\n",
       "      <td>97</td>\n",
       "      <td>-0.54</td>\n",
       "      <td>-0.40</td>\n",
       "    </tr>\n",
       "    <tr>\n",
       "      <td>98</td>\n",
       "      <td>-0.77</td>\n",
       "      <td>-0.96</td>\n",
       "    </tr>\n",
       "    <tr>\n",
       "      <td>99</td>\n",
       "      <td>0.40</td>\n",
       "      <td>1.40</td>\n",
       "    </tr>\n",
       "    <tr>\n",
       "      <td>100</td>\n",
       "      <td>-0.59</td>\n",
       "      <td>-0.50</td>\n",
       "    </tr>\n",
       "  </tbody>\n",
       "</table>\n",
       "<p>100 rows × 2 columns</p>\n",
       "</div>"
      ],
      "text/plain": [
       "                       X                    Y\n",
       "1                  -0.90                -0.23\n",
       "2                  -1.56                -0.89\n",
       "3                  -0.42                 0.27\n",
       "4                   1.04                -0.73\n",
       "5                  -0.32                 0.84\n",
       "..                   ...                  ...\n",
       "96                  0.48                 1.45\n",
       "97                 -0.54                -0.40\n",
       "98                 -0.77                -0.96\n",
       "99                  0.40                 1.40\n",
       "100                -0.59                -0.50\n",
       "\n",
       "[100 rows x 2 columns]"
      ]
     },
     "execution_count": 21,
     "metadata": {},
     "output_type": "execute_result"
    }
   ],
   "source": [
    "portfolio"
   ]
  },
  {
   "cell_type": "code",
   "execution_count": 26,
   "metadata": {},
   "outputs": [],
   "source": [
    "def alpha_fn(data, start_index, end_index):\n",
    "    X = data['X'][start_index:end_index]\n",
    "    Y = data['Y'][start_index:end_index]\n",
    "    return ((np.var(Y) - np.cov(X,Y)[0][1]) / (np.var(X) + np.var(Y) - 2*np.cov(X,Y)[0][1]))"
   ]
  },
  {
   "cell_type": "code",
   "execution_count": 27,
   "metadata": {},
   "outputs": [
    {
     "data": {
      "text/plain": [
       "0.5766511516104118"
      ]
     },
     "execution_count": 27,
     "metadata": {},
     "output_type": "execute_result"
    }
   ],
   "source": [
    "#X, Y가 전체집단이라고 할 경우에 모수\n",
    "\n",
    "alpha_fn(portfolio, 0, 100)"
   ]
  },
  {
   "cell_type": "code",
   "execution_count": 31,
   "metadata": {},
   "outputs": [
    {
     "data": {
      "text/plain": [
       "0.5517469372674121"
      ]
     },
     "execution_count": 31,
     "metadata": {},
     "output_type": "execute_result"
    }
   ],
   "source": [
    "#Python에서 Bootstrap은 sklearn 안에 있는 resample을 이용한다. (bootstrap 기능 자체는 없음)\n",
    "\n",
    "from sklearn.utils import resample\n",
    "\n",
    "portfolio_bs = resample(portfolio, replace = True, n_samples = 100)\n",
    "\n",
    "alpha_fn(portfolio_bs, 0, 100)\n",
    "#portfolio 데이터에서 랜덤으로 100개를 중복으로 뽑아서 데이터를 새로 구한 뒤의 alpha값"
   ]
  },
  {
   "cell_type": "code",
   "execution_count": 33,
   "metadata": {},
   "outputs": [
    {
     "name": "stdout",
     "output_type": "stream",
     "text": [
      "Bootstrapped alpha hat: 0.5799715788046581\n",
      "SE: 0.09371490124310197\n"
     ]
    }
   ],
   "source": [
    "bs_alpha =[]\n",
    "\n",
    "for i in range(0,1000):\n",
    "    alpha = alpha_fn(resample(portfolio, replace=True, n_samples=100), 0, 100)\n",
    "    bs_alpha.append(alpha)\n",
    "\n",
    "bs_alpha = np.array(bs_alpha)\n",
    "\n",
    "print('Bootstrapped alpha hat:', bs_alpha.mean()) #Bootstrap으로 구한 alpha hat\n",
    "print('SE:', bs_alpha.std())"
   ]
  },
  {
   "cell_type": "code",
   "execution_count": 37,
   "metadata": {},
   "outputs": [
    {
     "data": {
      "text/plain": [
       "(39.93586102117047, -0.15784473335365365)"
      ]
     },
     "execution_count": 37,
     "metadata": {},
     "output_type": "execute_result"
    }
   ],
   "source": [
    "def boot_fn(data, start_index, end_index):\n",
    "    m = LR(fit_intercept=True).fit(\n",
    "         data['horsepower'][start_index:end_index].values.reshape(-1,1),\n",
    "         data['mpg'][start_index:end_index]\n",
    "    )\n",
    "    \n",
    "    return m.intercept_, m.coef_[0]\n",
    "\n",
    "boot_fn(auto, 0, 392)\n",
    "#전체 데이터를 사용했을 때 OLS intercept값과 horsepower intercept 값"
   ]
  },
  {
   "cell_type": "code",
   "execution_count": 38,
   "metadata": {},
   "outputs": [
    {
     "data": {
      "text/plain": [
       "(39.78371083147526, -0.15574205332468838)"
      ]
     },
     "execution_count": 38,
     "metadata": {},
     "output_type": "execute_result"
    }
   ],
   "source": [
    "boot_fn(resample(auto, replace=True, n_samples=392), 0, 392)\n",
    "#auto 데이터에서 392개를 resampling해서 새로운 데이터를 fitting해서 구한 베타 값들"
   ]
  },
  {
   "cell_type": "code",
   "execution_count": 52,
   "metadata": {},
   "outputs": [
    {
     "name": "stdout",
     "output_type": "stream",
     "text": [
      "intercept bs hat & se: 39.962596747215926 0.8472821945395944\n",
      "b1 bs hat & se: -0.15826843959184062 0.00747410123974911\n"
     ]
    }
   ],
   "source": [
    "bs_boot = {'intercept':[], 'beta 1':[]}\n",
    "\n",
    "for i in range(0,1000):\n",
    "    bs_boot['intercept'].append(\n",
    "        boot_fn(resample(auto, replace=True, n_samples=392), 0, 392)[0]\n",
    "    )\n",
    "    bs_boot['beta 1'].append(\n",
    "        boot_fn(resample(auto, replace=True, n_samples=392), 0, 392)[1]\n",
    "    )\n",
    "\n",
    "intercept_hat = np.array(bs_boot['intercept']).mean()\n",
    "intercept_se = np.array(bs_boot['intercept']).std()\n",
    "b1_hat = np.array(bs_boot['beta 1']).mean()\n",
    "b1_se = np.array(bs_boot['beta 1']).std()\n",
    "\n",
    "print('intercept bs hat & se:', intercept_hat, intercept_se)\n",
    "print('b1 bs hat & se:', b1_hat, b1_se)\n",
    "#위에서 boot_fn(auto, 0, 392)를 사용했을 때와 거의 차이가 없다는 것을 알 수 있다."
   ]
  },
  {
   "cell_type": "code",
   "execution_count": 57,
   "metadata": {},
   "outputs": [],
   "source": [
    "# horsepower 2 변수가 추가되는 경우\n",
    "\n",
    "def boot_fn2(data, start_index, end_index):\n",
    "    m = LR(fit_intercept=True).fit(\n",
    "        data[['horsepower', 'horsepower_2']][start_index:end_index],\n",
    "        data['mpg'][start_index:end_index]\n",
    "    )\n",
    "    \n",
    "    return m.intercept_, m.coef_[0], m.coef_[1]"
   ]
  },
  {
   "cell_type": "code",
   "execution_count": 58,
   "metadata": {},
   "outputs": [
    {
     "name": "stdout",
     "output_type": "stream",
     "text": [
      "intercept bs hat & se: 56.93246800779829 2.0133303879344746\n",
      "beta 1 bs hat & se: -0.46704350129262445 0.03362387137249098\n",
      "beta 2 bs hat & se: 0.0012355562744599086 0.0001184440097654577\n"
     ]
    }
   ],
   "source": [
    "bs_boot2 = {'intercept':[], 'beta 1':[], 'beta 2':[]}\n",
    "\n",
    "for i in range(0,1000):\n",
    "    bs_boot2['intercept'].append(\n",
    "        boot_fn2(resample(auto, replace=True, n_samples=392), 0, 392)[0]\n",
    "    )\n",
    "    bs_boot2['beta 1'].append(\n",
    "        boot_fn2(resample(auto, replace=True, n_samples=392), 0, 392)[1]\n",
    "    )\n",
    "    bs_boot2['beta 2'].append(\n",
    "        boot_fn2(resample(auto, replace=True, n_samples=392), 0, 392)[2]\n",
    "    )\n",
    "\n",
    "intercept_hat = np.array(bs_boot2['intercept']).mean()\n",
    "intercept_se = np.array(bs_boot2['intercept']).std()\n",
    "b1_hat = np.array(bs_boot2['beta 1']).mean()\n",
    "b1_se = np.array(bs_boot2['beta 1']).std()\n",
    "b2_hat = np.array(bs_boot2['beta 2']).mean()\n",
    "b2_se = np.array(bs_boot2['beta 2']).std()\n",
    "\n",
    "print('intercept bs hat & se:', intercept_hat, intercept_se)\n",
    "print('beta 1 bs hat & se:', b1_hat, b1_se)\n",
    "print('beta 2 bs hat & se:', b2_hat, b2_se)"
   ]
  },
  {
   "cell_type": "code",
   "execution_count": 59,
   "metadata": {},
   "outputs": [
    {
     "data": {
      "text/html": [
       "<table class=\"simpletable\">\n",
       "<tr>\n",
       "        <td></td>          <th>coef</th>     <th>std err</th>      <th>t</th>      <th>P>|t|</th>  <th>[0.025</th>    <th>0.975]</th>  \n",
       "</tr>\n",
       "<tr>\n",
       "  <th>Intercept</th>    <td>   56.9001</td> <td>    1.800</td> <td>   31.604</td> <td> 0.000</td> <td>   53.360</td> <td>   60.440</td>\n",
       "</tr>\n",
       "<tr>\n",
       "  <th>horsepower</th>   <td>   -0.4662</td> <td>    0.031</td> <td>  -14.978</td> <td> 0.000</td> <td>   -0.527</td> <td>   -0.405</td>\n",
       "</tr>\n",
       "<tr>\n",
       "  <th>horsepower_2</th> <td>    0.0012</td> <td>    0.000</td> <td>   10.080</td> <td> 0.000</td> <td>    0.001</td> <td>    0.001</td>\n",
       "</tr>\n",
       "</table>"
      ],
      "text/plain": [
       "<class 'statsmodels.iolib.table.SimpleTable'>"
      ]
     },
     "execution_count": 59,
     "metadata": {},
     "output_type": "execute_result"
    }
   ],
   "source": [
    "import statsmodels.formula.api as sm\n",
    "\n",
    "ols2 = sm.ols('mpg ~ horsepower + horsepower_2', data =auto).fit()\n",
    "ols2.summary().tables[1]"
   ]
  }
 ],
 "metadata": {
  "kernelspec": {
   "display_name": "Python 3",
   "language": "python",
   "name": "python3"
  },
  "language_info": {
   "codemirror_mode": {
    "name": "ipython",
    "version": 3
   },
   "file_extension": ".py",
   "mimetype": "text/x-python",
   "name": "python",
   "nbconvert_exporter": "python",
   "pygments_lexer": "ipython3",
   "version": "3.7.4"
  }
 },
 "nbformat": 4,
 "nbformat_minor": 2
}
